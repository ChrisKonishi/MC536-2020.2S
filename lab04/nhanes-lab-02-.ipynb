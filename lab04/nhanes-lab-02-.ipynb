{
 "cells": [
  {
   "cell_type": "code",
   "execution_count": 1,
   "metadata": {},
   "outputs": [],
   "source": [
    "%defaultDatasource jdbc:h2:mem:db"
   ]
  },
  {
   "cell_type": "markdown",
   "metadata": {},
   "source": [
    "# Analisando o Uso de Medicamentos\n",
    "* Esta tarefa analisará os dados conforme três abordagens: análise do comportamento estatístico; análise de correlação entre pares; análise de correlação de variáveis.\n",
    "* A partir dos arquivos CSV que estão no diretórios /data/nhanes considere as seguintes tabelas SQL."
   ]
  },
  {
   "cell_type": "code",
   "execution_count": 2,
   "metadata": {},
   "outputs": [],
   "source": [
    "CREATE TABLE Pessoa (\n",
    "  Id VARCHAR(5) NOT NULL,\n",
    "  Genero INTEGER,\n",
    "  Idade INTEGER,\n",
    "  PRIMARY KEY(Id)\n",
    ") AS SELECT\n",
    "    Id,\n",
    "    Genero,\n",
    "    Idade\n",
    "FROM CSVREAD('../../../data/nhanes/demographic-person.csv');\n",
    "\n",
    "CREATE TABLE Medicamento (\n",
    "  Codigo VARCHAR(6) NOT NULL,\n",
    "  NomeMedicamento VARCHAR(100) NOT NULL,\n",
    "  PRIMARY KEY(Codigo)\n",
    ") AS SELECT\n",
    "    Codigo,\n",
    "    NomeMedicamento\n",
    "FROM CSVREAD('../../../data/nhanes/medications-drug.csv');\n",
    "\n",
    "CREATE TABLE UsoMedicamento (\n",
    "  IdPessoa VARCHAR(5) NOT NULL,\n",
    "  CodMedicamento VARCHAR(6) NOT NULL,\n",
    "  DiasUso INTEGER,\n",
    "  FOREIGN KEY(IdPessoa)\n",
    "    REFERENCES Pessoa(Id)\n",
    "      ON DELETE NO ACTION\n",
    "      ON UPDATE NO ACTION,\n",
    "  FOREIGN KEY(CodMedicamento)\n",
    "    REFERENCES Medicamento(Codigo)\n",
    "      ON DELETE NO ACTION\n",
    "      ON UPDATE NO ACTION\n",
    ") AS SELECT\n",
    "    IdPessoa,\n",
    "    CodMedicamento,\n",
    "    DiasUso\n",
    "FROM CSVREAD('../../../data/nhanes/medications-use.csv');"
   ]
  },
  {
   "cell_type": "code",
   "execution_count": 3,
   "metadata": {},
   "outputs": [
    {
     "data": {
      "application/vnd.jupyter.widget-view+json": {
       "model_id": "47f48302-9eef-41c9-a5f5-5054fc7910e1",
       "version_major": 2,
       "version_minor": 0
      },
      "method": "display_data"
     },
     "metadata": {},
     "output_type": "display_data"
    },
    {
     "data": {
      "application/vnd.jupyter.widget-view+json": {
       "model_id": "91202668-0b19-491f-8a1e-a90c8b5db219",
       "version_major": 2,
       "version_minor": 0
      },
      "method": "display_data"
     },
     "metadata": {},
     "output_type": "display_data"
    },
    {
     "data": {
      "application/vnd.jupyter.widget-view+json": {
       "model_id": "51327440-da95-441b-8d7f-44ca3c72d3d2",
       "version_major": 2,
       "version_minor": 0
      },
      "method": "display_data"
     },
     "metadata": {},
     "output_type": "display_data"
    }
   ],
   "source": [
    "SELECT * FROM Pessoa;\n",
    "SELECT * FROM Medicamento;\n",
    "SELECT * FROM UsoMedicamento;\n",
    " "
   ]
  },
  {
   "cell_type": "markdown",
   "metadata": {},
   "source": [
    "# I. Análise de comportamento estatístico"
   ]
  },
  {
   "cell_type": "markdown",
   "metadata": {},
   "source": [
    "## 1) Contabilizando o uso de medicamentos\n",
    "\n",
    "* Liste o nome de todos os medicamentos e a quantidade de pessoas que usa cada um deles."
   ]
  },
  {
   "cell_type": "code",
   "execution_count": 4,
   "metadata": {},
   "outputs": [
    {
     "data": {
      "application/vnd.jupyter.widget-view+json": {
       "model_id": "16e4a2a6-b675-4791-aa70-08b5ab35aba8",
       "version_major": 2,
       "version_minor": 0
      },
      "method": "display_data"
     },
     "metadata": {},
     "output_type": "display_data"
    }
   ],
   "source": [
    "SELECT um.codmedicamento, COUNT(*) FROM UsoMedicamento um\n",
    "    GROUP BY um.codmedicamento;"
   ]
  },
  {
   "cell_type": "markdown",
   "metadata": {},
   "source": [
    "## 2) Medicamento mais usado com VIEW\n",
    "\n",
    "* Informe o código do medicamento mais usado: fazendo uso de VIEW."
   ]
  },
  {
   "cell_type": "code",
   "execution_count": 5,
   "metadata": {},
   "outputs": [],
   "source": [
    "-- criar view\n",
    "CREATE VIEW UsoMedCount AS\n",
    "SELECT um.codmedicamento, COUNT(*) medCount FROM UsoMedicamento um\n",
    "    GROUP BY um.codmedicamento;"
   ]
  },
  {
   "cell_type": "code",
   "execution_count": 6,
   "metadata": {},
   "outputs": [
    {
     "data": {
      "text/plain": [
       "493"
      ]
     },
     "execution_count": 6,
     "metadata": {},
     "output_type": "execute_result"
    }
   ],
   "source": [
    "-- selecionar o maximo\n",
    "SELECT MAX(medcount) FROM UsoMedCount\n"
   ]
  },
  {
   "cell_type": "markdown",
   "metadata": {},
   "source": [
    "## 3) Medicamento mais usado sem VIEW\n",
    "\n",
    "* Informe o código do medicamento mais usado: sem fazer uso de VIEW."
   ]
  },
  {
   "cell_type": "code",
   "execution_count": 7,
   "metadata": {},
   "outputs": [
    {
     "data": {
      "text/plain": [
       "493"
      ]
     },
     "execution_count": 7,
     "metadata": {},
     "output_type": "execute_result"
    }
   ],
   "source": [
    "SELECT MAX(medCOUNT) FROM (\n",
    "    SELECT um.codmedicamento, COUNT(*) medCount FROM UsoMedicamento um\n",
    "        GROUP BY um.codmedicamento\n",
    "    );"
   ]
  },
  {
   "cell_type": "markdown",
   "metadata": {},
   "source": [
    "## 4) Nome do medicamento mais usado\n",
    "* Informe o nome do medicamento mais usado (uso de VIEW é opcional)."
   ]
  },
  {
   "cell_type": "code",
   "execution_count": 8,
   "metadata": {},
   "outputs": [],
   "source": [
    "CREATE VIEW NomeCount as\n",
    "SELECT m.nomeMedicamento, cmc.medCOUNT\n",
    "    FROM (\n",
    "        SELECT um.codmedicamento, COUNT(*) medCount FROM UsoMedicamento um\n",
    "            GROUP BY um.codmedicamento) cmc,\n",
    "        medicamento m\n",
    "    WHERE\n",
    "        cmc.codMedicamento = m.codigo\n",
    ";"
   ]
  },
  {
   "cell_type": "code",
   "execution_count": 9,
   "metadata": {},
   "outputs": [
    {
     "data": {
      "application/vnd.jupyter.widget-view+json": {
       "model_id": "958a3bac-f36e-4853-b6a2-fd4c24f4e246",
       "version_major": 2,
       "version_minor": 0
      },
      "method": "display_data"
     },
     "metadata": {},
     "output_type": "display_data"
    }
   ],
   "source": [
    "SELECT nc.nomeMedicamento, nc.medCount\n",
    "    FROM \n",
    "        NomeCount nc\n",
    "    WHERE \n",
    "        nc.medCount = (SELECT MAX(aux.medCount) FROM NomeCount aux)\n",
    ";"
   ]
  },
  {
   "cell_type": "markdown",
   "metadata": {},
   "source": [
    "## 5) Contabilizando quanto as pessoas usam de medicamento\n",
    "\n",
    "* Informe o número médio de uso de medicamento por pessoa."
   ]
  },
  {
   "cell_type": "code",
   "execution_count": 10,
   "metadata": {},
   "outputs": [
    {
     "data": {
      "text/plain": [
       "2586"
      ]
     },
     "execution_count": 10,
     "metadata": {},
     "output_type": "execute_result"
    }
   ],
   "source": [
    "SELECT AVG(mediaPessoa) FROM\n",
    "    (SELECT um.idPessoa, AVG(um.diasUso) mediaPessoa from UsoMedicamento um\n",
    "        GROUP BY um.idPessoa)\n",
    ";"
   ]
  },
  {
   "cell_type": "markdown",
   "metadata": {},
   "source": [
    "## 6) Pessoas que usam mais do que a média\n",
    "\n",
    "* Liste o id das pessoas que usam mais medicamentos do que a média."
   ]
  },
  {
   "cell_type": "code",
   "execution_count": 11,
   "metadata": {},
   "outputs": [
    {
     "data": {
      "application/vnd.jupyter.widget-view+json": {
       "model_id": "e4c13cab-a0f3-4d45-aa6e-26819a5fc3cc",
       "version_major": 2,
       "version_minor": 0
      },
      "method": "display_data"
     },
     "metadata": {},
     "output_type": "display_data"
    }
   ],
   "source": [
    "SELECT idPessoa, mediaPessoa\n",
    "    FROM\n",
    "        (SELECT um.idPessoa, AVG(um.diasUso) mediaPessoa from UsoMedicamento um\n",
    "            GROUP BY um.idPessoa)\n",
    "    WHERE \n",
    "        mediaPessoa > SELECT AVG(mediaPessoa) \n",
    "            FROM\n",
    "                (SELECT um.idPessoa, AVG(um.diasUso) mediaPessoa from UsoMedicamento um\n",
    "                    GROUP BY um.idPessoa)\n",
    ";"
   ]
  },
  {
   "cell_type": "markdown",
   "metadata": {},
   "source": [
    "## 7) Análise do uso de medicamento\n",
    "\n",
    "* Considere que um médico quer fazer responder a seguinte questão: pessoas tendem a usar mais medicamentos conforme ficam mais velhas?\n",
    "* Escreva uma query que ajude o médico a realizar esta análise."
   ]
  },
  {
   "cell_type": "code",
   "execution_count": 12,
   "metadata": {},
   "outputs": [],
   "source": [
    "--Pessoas que usam acima da media\n",
    "CREATE VIEW AcimaMedUso AS\n",
    "SELECT idPessoa, mediaUsoPessoa\n",
    "    FROM\n",
    "        (SELECT um.idPessoa, AVG(um.diasUso) mediaUsoPessoa from UsoMedicamento um\n",
    "            GROUP BY um.idPessoa)\n",
    "    WHERE \n",
    "        mediaUsoPessoa > (SELECT AVG(mediaPessoa) \n",
    "            FROM\n",
    "                (SELECT um.idPessoa, AVG(um.diasUso) mediaPessoa from UsoMedicamento um\n",
    "                    GROUP BY um.idPessoa))\n",
    ";"
   ]
  },
  {
   "cell_type": "code",
   "execution_count": 13,
   "metadata": {},
   "outputs": [],
   "source": [
    "-- Pessoas acima da media de idade\n",
    "CREATE VIEW AcimaMedIdade AS\n",
    "SELECT id, idade\n",
    "    FROM\n",
    "        Pessoa\n",
    "    WHERE\n",
    "        idade > SELECT AVG(idade) FROM Pessoa\n",
    ";"
   ]
  },
  {
   "cell_type": "code",
   "execution_count": 14,
   "metadata": {},
   "outputs": [
    {
     "data": {
      "application/vnd.jupyter.widget-view+json": {
       "model_id": "09b94dc9-35e9-460c-882f-128e68c9bc1c",
       "version_major": 2,
       "version_minor": 0
      },
      "method": "display_data"
     },
     "metadata": {},
     "output_type": "display_data"
    },
    {
     "data": {
      "application/vnd.jupyter.widget-view+json": {
       "model_id": "71e5506f-f776-4151-bf04-fd75fc491122",
       "version_major": 2,
       "version_minor": 0
      },
      "method": "display_data"
     },
     "metadata": {},
     "output_type": "display_data"
    },
    {
     "data": {
      "application/vnd.jupyter.widget-view+json": {
       "model_id": "51129910-6835-4a77-b2db-6dda6c05dd96",
       "version_major": 2,
       "version_minor": 0
      },
      "method": "display_data"
     },
     "metadata": {},
     "output_type": "display_data"
    },
    {
     "data": {
      "application/vnd.jupyter.widget-view+json": {
       "model_id": "b8b5bef0-af36-497f-b73b-0b207818e574",
       "version_major": 2,
       "version_minor": 0
      },
      "method": "display_data"
     },
     "metadata": {},
     "output_type": "display_data"
    }
   ],
   "source": [
    "SELECT COUNT(id) FROM \n",
    "    (SELECT ami.id, ami.idade, amu.mediaUsoPessoa\n",
    "        FROM\n",
    "            AcimaMedIdade ami, AcimaMedUso amu\n",
    "        WHERE\n",
    "            ami.id = amu.idPessoa)\n",
    ";\n",
    "\n",
    "SELECT COUNT(id) FROM AcimaMedIdade;\n",
    "\n",
    "SELECT COUNT(idPessoa) FROM AcimaMedUso;\n",
    "SELECT COUNT(id) FROM Pessoa;\n",
    "\n",
    "\n",
    "-- Pessoas que usam mais medicamento do que a media e estão acima da media de idade\n",
    "-- Pessoas acima da media da idade\n",
    "-- Pessoas que usam mais medicamento do que a media\n",
    "-- Total de pessoas\n",
    "\n",
    "-- Pessoas acima da média utilizam mais medicamento do que a media, proporcionalmente"
   ]
  },
  {
   "cell_type": "markdown",
   "metadata": {},
   "source": [
    "# II. Análise de correlação em pares\n",
    "## Estudo de ação cruzada entre medicamentos\n",
    "\n",
    "* Um pesquisador quer estudar o efeito cruzado de usar dois medicamentos simultaneamente. \n",
    "* Para isso ele precisará da seguinte sequência de queries."
   ]
  },
  {
   "cell_type": "markdown",
   "metadata": {},
   "source": [
    "## 8) Medicamentos tomados em conjunto\n",
    "* Construa uma VIEW com duas colunas: medicamentoA, medicamentoB\n",
    "* Nessa VIEW, é criada uma tupla (medicamentoA, medicamentoB) toda vez que uma pessoa toma o medicamento A e também o medicamento B.\n",
    "* Haverá repetição de tuplas, já que mais de uma pessoa pode tomar o mesmo par de medicamentos.\n",
    "* Cuidado para não duplicar a mesma informação, ou seja, considerando que uma pessoa tomou o medicamentoX e o medicamentoY, cuidado para não criar duas tuplas: (medicamentoX, medicamentoY) e (medicamentoY, medicamentoX)."
   ]
  },
  {
   "cell_type": "code",
   "execution_count": null,
   "metadata": {},
   "outputs": [],
   "source": []
  },
  {
   "cell_type": "markdown",
   "metadata": {},
   "source": [
    "## 9) Total de medicamento tomados em conjunto\n",
    "* Apresente o total de pessoas que toma cada par de medicamentos."
   ]
  },
  {
   "cell_type": "code",
   "execution_count": null,
   "metadata": {},
   "outputs": [],
   "source": []
  },
  {
   "cell_type": "markdown",
   "metadata": {},
   "source": [
    "# III. Análise de correlação entre variáveis\n",
    "* Consiste na análise da seguinte questão: como a alteração de uma variável afeta a outra.\n",
    "## Matriz de análise\n",
    "* Considere a matriz abaixo."
   ]
  },
  {
   "cell_type": "code",
   "execution_count": 4,
   "metadata": {},
   "outputs": [
    {
     "data": {
      "application/vnd.jupyter.widget-view+json": {
       "model_id": "1f49994c-de79-460b-8fc6-c28781c1ae07",
       "version_major": 2,
       "version_minor": 0
      },
      "method": "display_data"
     },
     "metadata": {},
     "output_type": "display_data"
    }
   ],
   "source": [
    "CREATE TABLE Matriz (\n",
    "  Id VARCHAR(5) NOT NULL,\n",
    "  Genero INTEGER,\n",
    "  Idade INTEGER,\n",
    "  IdadeAte60 BOOLEAN,\n",
    "  MaisUmAnoMedicamento BOOLEAN,\n",
    "  MedicamentosAcimaMedia BOOLEAN,\n",
    "  PRIMARY KEY(Id)\n",
    ") AS SELECT\n",
    "    Id,\n",
    "    Genero,\n",
    "    Idade,\n",
    "    FALSE, FALSE, FALSE\n",
    "FROM CSVREAD('../../../data/nhanes/demographic-person.csv');\n",
    "\n",
    "SELECT * FROM Matriz;"
   ]
  },
  {
   "cell_type": "markdown",
   "metadata": {},
   "source": [
    "## 10) Atualização simples da matriz\n",
    "* Utilize o comando UPDATE para atualizar a coluna IdadeAte60 da tabela colocando verdadeiro para as pessoas que têm até 60 anos de idade."
   ]
  },
  {
   "cell_type": "code",
   "execution_count": null,
   "metadata": {},
   "outputs": [],
   "source": []
  },
  {
   "cell_type": "markdown",
   "metadata": {},
   "source": [
    "## 11) Atualização vinculada a uma segunda tabela\n",
    "* Utilize o comando UPDATE para atualizar a coluna MaisUmAnoMedicamento, colocando verdadeiro para aquelas pessoas que usam pelo menos um medicamento há mais de um ano."
   ]
  },
  {
   "cell_type": "code",
   "execution_count": null,
   "metadata": {},
   "outputs": [],
   "source": []
  },
  {
   "cell_type": "markdown",
   "metadata": {},
   "source": [
    "## 12) Atualização baseada em uma consulta complexa\n",
    "* Utilize o comando UPDATE para atualizar a coluna MedicamentosAcimaMedia, colocando verdadeiro para aquelas pessoas que usam um número de medicamentos acima da média."
   ]
  },
  {
   "cell_type": "code",
   "execution_count": null,
   "metadata": {},
   "outputs": [],
   "source": []
  },
  {
   "cell_type": "markdown",
   "metadata": {},
   "source": [
    "## 13) Que análise interessante pode ser feita?\n",
    "* A partir da Matriz criada, proponha uma análise interessante."
   ]
  },
  {
   "cell_type": "markdown",
   "metadata": {},
   "source": [
    "### 13a) Descreva a seguir (em Markdown) qual a análise que você propõe."
   ]
  },
  {
   "cell_type": "code",
   "execution_count": null,
   "metadata": {},
   "outputs": [],
   "source": []
  },
  {
   "cell_type": "markdown",
   "metadata": {},
   "source": [
    "### 13b) Escreva uma consulta em SQL que fornece informações para a análise proposta."
   ]
  },
  {
   "cell_type": "code",
   "execution_count": null,
   "metadata": {},
   "outputs": [],
   "source": []
  }
 ],
 "metadata": {
  "kernelspec": {
   "display_name": "SQL",
   "language": "SQL",
   "name": "sql"
  },
  "language_info": {
   "codemirror_mode": "sql",
   "file_extension": ".sql",
   "mimetype": "",
   "name": "SQL",
   "nbconverter_exporter": "",
   "version": ""
  }
 },
 "nbformat": 4,
 "nbformat_minor": 4
}

{
 "cells": [
  {
   "cell_type": "code",
   "execution_count": 1,
   "metadata": {},
   "outputs": [],
   "source": [
    "%defaultDatasource jdbc:h2:mem:db"
   ]
  },
  {
   "cell_type": "code",
   "execution_count": 2,
   "metadata": {},
   "outputs": [],
   "source": [
    "DROP TABLE IF EXISTS Pessoa;\n",
    "DROP TABLE IF EXISTS Cidade;"
   ]
  },
  {
   "cell_type": "code",
   "execution_count": 3,
   "metadata": {},
   "outputs": [],
   "source": [
    "CREATE TABLE Pessoa (\n",
    "    nome VARCHAR(40) NOT NULL,\n",
    "    nome_da_mae VARCHAR(40) NOT NULL,\n",
    "    ano_nascimento DATE NOT NULL,\n",
    "    nome_cidade_natal VARCHAR(30),\n",
    "    PRIMARY KEY(nome)\n",
    ");\n",
    "\n",
    "CREATE TABLE Cidade(\n",
    "    nome_cidade VARCHAR(30) NOT NULL,\n",
    "    sigla_estado VARCHAR(2) NOT NULL,\n",
    "    PRIMARY KEY(nome_cidade)\n",
    ");"
   ]
  },
  {
   "cell_type": "code",
   "execution_count": 7,
   "metadata": {},
   "outputs": [
    {
     "ename": "org.h2.jdbc.JdbcSQLException",
     "evalue": " Column \"Trucy Wright\" not found; SQL statement",
     "output_type": "error",
     "text": "org.h2.jdbc.JdbcSQLException: Column \"Trucy Wright\" not found; SQL statement:\nINSERT INTO Pessoa\r\n(\"Trucy Wright\", \"Phoenix Wright\", \"2003-04-15\", \"Santos\") [42122-197]",
     "traceback": [
      "\u001b[1;31morg.h2.jdbc.JdbcSQLException: Column \"Trucy Wright\" not found; SQL statement:\u001b[0;0m",
      "\u001b[1;31mINSERT INTO Pessoa\u001b[0;0m",
      "\u001b[1;31m(\"Trucy Wright\", \"Phoenix Wright\", \"2003-04-15\", \"Santos\") [42122-197]\u001b[0;0m"
     ]
    }
   ],
   "source": [
    "INSERT INTO Pessoa \n",
    "    VALUES(\"Trucy Wright\", \"Phoenix Wright\", \"2003-04-15\", \"Santos\");\n",
    "INSERT INTO Pessoa \n",
    "    VALUES(\"Phoenix Wright\", \"Mother Wright\", \"1974-07-24\", \"Belo Horizonte\");\n",
    "INSERT INTO Cidade \n",
    "    VALUES(\"Santos\", \"SP\");\n",
    "INSERT INTO Cidade \n",
    "    VALUES(\"Belo Horizonte\", \"MG\");"
   ]
  },
  {
   "cell_type": "code",
   "execution_count": null,
   "metadata": {},
   "outputs": [],
   "source": []
  }
 ],
 "metadata": {
  "kernelspec": {
   "display_name": "SQL",
   "language": "SQL",
   "name": "sql"
  },
  "language_info": {
   "codemirror_mode": "sql",
   "file_extension": ".sql",
   "mimetype": "",
   "name": "SQL",
   "nbconverter_exporter": "",
   "version": ""
  }
 },
 "nbformat": 4,
 "nbformat_minor": 4
}

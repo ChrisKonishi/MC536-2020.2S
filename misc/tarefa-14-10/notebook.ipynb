{
 "cells": [
  {
   "cell_type": "code",
   "execution_count": 1,
   "metadata": {},
   "outputs": [],
   "source": [
    "%defaultDatasource jdbc:h2:mem:db"
   ]
  },
  {
   "cell_type": "code",
   "execution_count": 2,
   "metadata": {},
   "outputs": [],
   "source": [
    "-- Exercicio 1\n",
    "\n",
    "DROP TABLE IF EXISTS Pessoa;\n",
    "DROP TABLE IF EXISTS Cidade;\n",
    "\n",
    "CREATE TABLE Pessoa (\n",
    "    nome VARCHAR(40) NOT NULL,\n",
    "    nome_da_mae VARCHAR(40) NOT NULL,\n",
    "    ano_nascimento INTEGER NOT NULL,\n",
    "    nome_cidade_natal VARCHAR(30),\n",
    "    PRIMARY KEY(nome)\n",
    ");\n",
    "\n",
    "CREATE TABLE Cidade(\n",
    "    nome_cidade VARCHAR(30) NOT NULL,\n",
    "    sigla_estado VARCHAR(2) NOT NULL,\n",
    "    PRIMARY KEY(nome_cidade)\n",
    ");"
   ]
  },
  {
   "cell_type": "code",
   "execution_count": 3,
   "metadata": {},
   "outputs": [],
   "source": [
    "-- Exercicio 2\n",
    "\n",
    "INSERT INTO Pessoa \n",
    "    VALUES('Trucy Wright', 'Maya Wright', '2010', 'Santos');\n",
    "INSERT INTO Pessoa \n",
    "    VALUES('Maya Wright', 'Mother Wright', '1974', 'Belo Horizonte');\n",
    "INSERT INTO Pessoa \n",
    "    VALUES('Mother Wright', 'Grand Wright', '1945', 'Belo Horizonte');\n",
    "INSERT INTO Pessoa \n",
    "    VALUES('Grand Wright', 'Grand Grand Wright', '1945', 'Curitiba');\n",
    "    \n",
    "    \n",
    "INSERT INTO Cidade \n",
    "    VALUES('Santos', 'SP');\n",
    "INSERT INTO Cidade \n",
    "    VALUES('Belo Horizonte', 'MG');\n",
    "INSERT INTO Cidade \n",
    "    VALUES('Curitiba', 'PR');"
   ]
  },
  {
   "cell_type": "code",
   "execution_count": 4,
   "metadata": {},
   "outputs": [
    {
     "data": {
      "application/vnd.jupyter.widget-view+json": {
       "model_id": "b9bd929d-be78-4ddc-9b9f-70668cc5b468",
       "version_major": 2,
       "version_minor": 0
      },
      "method": "display_data"
     },
     "metadata": {},
     "output_type": "display_data"
    },
    {
     "data": {
      "application/vnd.jupyter.widget-view+json": {
       "model_id": "c9789fbd-7ecd-4b59-8560-c6b97d7a760c",
       "version_major": 2,
       "version_minor": 0
      },
      "method": "display_data"
     },
     "metadata": {},
     "output_type": "display_data"
    }
   ],
   "source": [
    "-- Exercicio 3\n",
    "\n",
    "SELECT nome_da_mae FROM Pessoa;\n",
    "\n",
    "SELECT nome_da_mae FROM Pessoa\n",
    "    WHERE ano_nascimento <= SELECT EXTRACT(\n",
    "        YEAR FROM GETDATE()\n",
    "    )-12\n",
    ";"
   ]
  },
  {
   "cell_type": "code",
   "execution_count": 5,
   "metadata": {},
   "outputs": [],
   "source": [
    "-- Exercício 04\n",
    "\n",
    "DROP TABLE IF EXISTS Medicamento;\n",
    "DROP TABLE IF EXISTS Virus;\n",
    "\n",
    "CREATE TABLE Medicamento(\n",
    "    nomeVenda VARCHAR(30) NOT NULL,\n",
    "    compostoAtivo VARCHAR(30) NOT NULL,\n",
    "    PRIMARY KEY(nomeVenda)\n",
    ");\n",
    "\n",
    "CREATE TABLE Virus(\n",
    "    nomeCientifico VARCHAR(30) NOT NULL,\n",
    "    nomePopular VARCHAR(30) NOT NULL,\n",
    "    incubacao INTEGER NOT NULL,\n",
    "    nomeVendaMedicamento VARCHAR(30) NOT NULL,\n",
    "    PRIMARY KEY(nomeCientifico),\n",
    "    FOREIGN KEY(nomeVendaMedicamento)\n",
    "        REFERENCES Medicamento(nomeVenda)\n",
    "            ON DELETE NO ACTION\n",
    "            ON UPDATE NO ACTION\n",
    ");\n",
    "\n",
    "\n",
    "INSERT INTO Medicamento\n",
    "    VALUES('W', 'medCientW');\n",
    "INSERT INTO Medicamento\n",
    "    VALUES('Xo Cancer', 'X');\n",
    "INSERT INTO Medicamento\n",
    "    VALUES('Emplasto Hipocondriaco', 'X');\n",
    "    \n",
    "INSERT INTO Virus\n",
    "    VALUES('H1Z1', 'T Virus', '1', 'W');\n",
    "INSERT INTO Virus\n",
    "    VALUES('Z3B4', 'Virus Fortin', '3', 'Emplasto Hipocondriaco');\n",
    "INSERT INTO Virus\n",
    "    VALUES('HDTV', 'Virus da TV', '8', 'W');\n",
    "INSERT INTO Virus\n",
    "    VALUES('HRD', 'Virus do Cancer', '8', 'Xo Cancer');"
   ]
  },
  {
   "cell_type": "code",
   "execution_count": 6,
   "metadata": {},
   "outputs": [
    {
     "data": {
      "application/vnd.jupyter.widget-view+json": {
       "model_id": "6bdb729c-41ea-4089-b91a-01b7945ac836",
       "version_major": 2,
       "version_minor": 0
      },
      "method": "display_data"
     },
     "metadata": {},
     "output_type": "display_data"
    }
   ],
   "source": [
    "-- Exercicio 4 A\n",
    "\n",
    "SELECT vi.nomePopular \n",
    "    FROM\n",
    "        Virus vi\n",
    "    WHERE\n",
    "        vi.nomeVendaMedicamento = 'W'\n",
    ";"
   ]
  },
  {
   "cell_type": "code",
   "execution_count": 7,
   "metadata": {},
   "outputs": [
    {
     "data": {
      "application/vnd.jupyter.widget-view+json": {
       "model_id": "6e3e4082-a592-4677-9f55-ed23d1799c5e",
       "version_major": 2,
       "version_minor": 0
      },
      "method": "display_data"
     },
     "metadata": {},
     "output_type": "display_data"
    }
   ],
   "source": [
    "-- Exercicio 4 B\n",
    "\n",
    "SELECT vi.nomePopular \n",
    "    FROM\n",
    "        Virus vi, (SELECT * FROM Medicamento auxme WHERE auxme.compostoAtivo = 'X') me\n",
    "    WHERE\n",
    "        (vi.nomeVendaMedicamento = me.nomeVenda)\n",
    ";"
   ]
  },
  {
   "cell_type": "code",
   "execution_count": 8,
   "metadata": {},
   "outputs": [
    {
     "data": {
      "application/vnd.jupyter.widget-view+json": {
       "model_id": "6bfe3f2d-4beb-43c6-9ccc-a95269aed4b0",
       "version_major": 2,
       "version_minor": 0
      },
      "method": "display_data"
     },
     "metadata": {},
     "output_type": "display_data"
    }
   ],
   "source": [
    "-- Exercicio 5\n",
    "\n",
    "SELECT DISTINCT compostoAtivo FROM MEDICAMENTO"
   ]
  },
  {
   "cell_type": "code",
   "execution_count": 9,
   "metadata": {},
   "outputs": [
    {
     "data": {
      "application/vnd.jupyter.widget-view+json": {
       "model_id": "4e62f0be-fee2-4ff7-8a7a-bc42d287608e",
       "version_major": 2,
       "version_minor": 0
      },
      "method": "display_data"
     },
     "metadata": {},
     "output_type": "display_data"
    }
   ],
   "source": [
    "-- Exercicio 6\n",
    "\n",
    "DROP TABLE IF EXISTS Medicamento;\n",
    "DROP TABLE IF EXISTS Virus;\n",
    "DROP TABLE IF EXISTS Trata;\n",
    "\n",
    "CREATE TABLE Medicamento(\n",
    "    nomeVenda VARCHAR(30) NOT NULL,\n",
    "    compostoAtivo VARCHAR(30) NOT NULL,\n",
    "    PRIMARY KEY(nomeVenda)\n",
    ");\n",
    "\n",
    "CREATE TABLE Virus(\n",
    "    nomeCientifico VARCHAR(30) NOT NULL,\n",
    "    nomePopular VARCHAR(30) NOT NULL,\n",
    "    incubacao INTEGER NOT NULL,\n",
    "    PRIMARY KEY(nomeCientifico),\n",
    ");\n",
    "\n",
    "CREATE TABLE Trata(\n",
    "    nomeVendaMedicamento VARCHAR(30) NOT NULL,\n",
    "    nomeCientificoVirus VARCHAR(30) NOT NULL,\n",
    "    PRIMARY KEY(nomeVendaMedicamento, nomeCientificoVirus),\n",
    "    FOREIGN KEY(nomeVendaMedicamento)\n",
    "        REFERENCES Medicamento(nomeVenda)\n",
    "            ON DELETE NO ACTION\n",
    "            ON UPDATE NO ACTION,\n",
    "    FOREIGN KEY(nomeCientificoVirus)\n",
    "        REFERENCES Virus(nomeCientifico)\n",
    "            ON DELETE NO ACTION\n",
    "            ON UPDATE NO ACTION\n",
    ");\n",
    "\n",
    "\n",
    "INSERT INTO Medicamento\n",
    "    VALUES('W', 'medCientW');\n",
    "INSERT INTO Medicamento\n",
    "    VALUES('Xo Cancer', 'X');\n",
    "INSERT INTO Medicamento\n",
    "    VALUES('Emplasto Hipocondriaco', 'X');\n",
    "    \n",
    "INSERT INTO Virus\n",
    "    VALUES('H1Z1', 'T Virus', '1');\n",
    "INSERT INTO Virus\n",
    "    VALUES('Z3B4', 'Virus Fortin', '3');\n",
    "INSERT INTO Virus\n",
    "    VALUES('HDTV', 'Virus da TV', '8');\n",
    "INSERT INTO Virus\n",
    "    VALUES('HRD', 'Virus do Cancer', '8');\n",
    "    \n",
    "INSERT INTO Trata\n",
    "    VALUES('W', 'H1Z1');\n",
    "INSERT INTO Trata\n",
    "    VALUES('Xo Cancer', 'H1Z1');\n",
    "INSERT INTO Trata\n",
    "    VALUES('W', 'Z3B4');\n",
    "INSERT INTO Trata\n",
    "    VALUES('W', 'HRD');\n",
    "INSERT INTO Trata\n",
    "    VALUES('Emplasto Hipocondriaco', 'H1Z1');\n",
    "INSERT INTO Trata\n",
    "    VALUES('Xo Cancer', 'HRD');\n",
    "INSERT INTO Trata\n",
    "    VALUES('Xo Cancer', 'HDTV');    \n",
    "\n",
    "-- ##############################\n",
    "SELECT trmevi.nomePopular AS NomeVirus, trmevi.compostoAtivo as CompostoAtivo\n",
    "    FROM\n",
    "        (SELECT vi.nomePopular, trme.compostoAtivo\n",
    "            FROM\n",
    "                (SELECT me.compostoAtivo, tr.nomeCientificoVirus, me.nomeVenda\n",
    "                    FROM Trata tr, Medicamento me\n",
    "                    WHERE tr.nomeVendaMedicamento = me.nomeVenda) trme,\n",
    "                Virus vi\n",
    "            WHERE vi.nomeCientifico = trme.nomeCientificoVirus) trmevi\n",
    "    WHERE\n",
    "        trmevi.compostoAtivo = 'X'"
   ]
  },
  {
   "cell_type": "code",
   "execution_count": null,
   "metadata": {},
   "outputs": [],
   "source": []
  }
 ],
 "metadata": {
  "kernelspec": {
   "display_name": "SQL",
   "language": "SQL",
   "name": "sql"
  },
  "language_info": {
   "codemirror_mode": "sql",
   "file_extension": ".sql",
   "mimetype": "",
   "name": "SQL",
   "nbconverter_exporter": "",
   "version": ""
  }
 },
 "nbformat": 4,
 "nbformat_minor": 4
}

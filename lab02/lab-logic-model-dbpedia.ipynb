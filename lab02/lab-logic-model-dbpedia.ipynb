{
 "cells": [
  {
   "cell_type": "markdown",
   "metadata": {},
   "source": [
    "# Acessando a DBPedia\n",
    "\n",
    "Considere a página na Wikipedia do livro [The Tin Drum](https://en.wikipedia.org/wiki/The_Tin_Drum).\n",
    "\n",
    "Há um nó equivalente na DBPedia em [The Tin Drum](http://dbpedia.org/page/The_Tin_Drum).\n",
    "\n",
    "## Carregando um nó da DBPedia\n",
    "\n",
    "A partir do que aprendemos na aula sobre APIs, é possível carregar o conteúdo em JSON desse nó da seguinte maneira:"
   ]
  },
  {
   "cell_type": "code",
   "execution_count": null,
   "metadata": {
    "tags": [
     "outputPrepend"
    ]
   },
   "outputs": [],
   "source": [
    "import io\n",
    "import requests\n",
    "import json\n",
    "url_drum = \"http://dbpedia.org/data/The_Tin_Drum.jsod\"\n",
    "js_drum = requests.get(url_drum)\n",
    "print(js_drum.content.decode(\"utf-8\"))"
   ]
  },
  {
   "cell_type": "markdown",
   "metadata": {},
   "source": [
    "# Acessando e navegando pelo Grafo\n",
    "### Quem é autor de The Tin Drum?"
   ]
  },
  {
   "cell_type": "code",
   "execution_count": null,
   "metadata": {
    "tags": []
   },
   "outputs": [],
   "source": [
    "json_drum = js_drum.json()\n",
    "url_grass = json_drum[\"d\"][\"results\"][0][\"http://dbpedia.org/ontology/author\"][\"__deferred\"][\"uri\"]\n",
    "print(\"Autor de The Tin Drum: \" + url_grass)"
   ]
  },
  {
   "cell_type": "markdown",
   "metadata": {},
   "source": [
    "## Tarefa\n",
    "\n",
    "### Carregue o nó de Günter Grass em Python e mostre o conteúdo JSON."
   ]
  },
  {
   "cell_type": "code",
   "execution_count": 31,
   "metadata": {
    "tags": [
     "outputPrepend"
    ]
   },
   "outputs": [
    {
     "output_type": "stream",
     "name": "stdout",
     "text": "ot; : &quot;literal&quot;, &quot;value&quot; : &quot;Henrik, Prince of Denmark&quot; , &quot;datatype&quot; : &quot;http://www.w3.org/1999/02/22-rdf-syntax-ns#langString&quot; } ] ,\n    &quot;http://dbpedia.org/property/after&quot; : [ { &quot;type&quot; : &quot;literal&quot;, &quot;value&quot; : &quot;Emmelie de Forest&quot; , &quot;datatype&quot; : &quot;http://www.w3.org/1999/02/22-rdf-syntax-ns#langString&quot; } ] ,\n    &quot;http://dbpedia.org/ontology/birthName&quot; : [ { &quot;type&quot; : &quot;literal&quot;, &quot;value&quot; : &quot;G\\u00FCnter Wilhelm Gra\\u00DF&quot; , &quot;lang&quot; : &quot;en&quot; } ] ,\n    &quot;http://dbpedia.org/ontology/wikiPageExternalLink&quot; : [ { &quot;type&quot; : &quot;uri&quot;, &quot;value&quot; : &quot;http://www.guardian.co.uk/secondworldwar/story/0,,1843187,00.html&quot; } ,\n      { &quot;type&quot; : &quot;uri&quot;, &quot;value&quot; : &quot;http://www.gdansk-life.com/poland/gunter-grass&quot; } ] ,\n    &quot;http://dbpedia.org/ontology/activeYearsStartYear&quot; : [ { &quot;type&quot; : &quot;literal&quot;, &quot;value&quot; : &quot;1956&quot; , &quot;datatype&quot; : &quot;http://www.w3.org/2001/XMLSchema#gYear&quot; } ] ,\n    &quot;http://dbpedia.org/ontology/occupation&quot; : [ { &quot;type&quot; : &quot;uri&quot;, &quot;value&quot; : &quot;http://dbpedia.org/resource/Graphic_designer&quot; } ] ,\n    &quot;http://dbpedia.org/property/caption&quot; : [ { &quot;type&quot; : &quot;literal&quot;, &quot;value&quot; : &quot;G\\u00FCnter Grass in 2006&quot; , &quot;datatype&quot; : &quot;http://www.w3.org/1999/02/22-rdf-syntax-ns#langString&quot; } ] ,\n    &quot;http://dbpedia.org/ontology/abstract&quot; : [ { &quot;type&quot; : &quot;literal&quot;, &quot;value&quot; : &quot;G\\u00FCnter Wilhelm Grass (ur. 16 pa\\u017Adziernika 1927 w Gda\\u0144sku, zm. 13 kwietnia 2015 w Lubece) \\u2013 niemiecki pisarz narodowo\\u015Bci niemiecko-kaszubskiej, laureat Nagrody Nobla w dziedzinie literatury w 1999 roku. Doktor honoris causa Uniwersytetu Gda\\u0144skiego (za wybitn\\u0105 tw\\u00F3rczo\\u015B\\u0107 literack\\u0105 oraz wk\\u0142ad w polsko-niemieckie pojednanie) oraz Uniwersytetu im. Adama Mickiewicza w Poznaniu. W 1993 Rada Miasta przyzna\\u0142a pisarzowi tytu\\u0142 Honorowego Obywatela Miasta Gda\\u0144ska.&quot; , &quot;lang&quot; : &quot;pl&quot; } ,\n      { &quot;type&quot; : &quot;literal&quot;, &quot;value&quot; : &quot;\\u541B\\u7279\\u00B7\\u5A01\\u5EC9\\u00B7\\u683C\\u62C9\\u65AF\\uFF08G\\u00FCnter Wilhelm Grass\\uFF0C1927\\u5E7410\\u670816\\u65E5\\uFF0D2015\\u5E744\\u670813\\u65E5\\uFF09\\u662F\\u5FB7\\u570B\\u4F5C\\u5BB6\\uFF0C\\u51FA\\u751F\\u65BC\\u4F46\\u6FA4\\u81EA\\u7531\\u5E02\\uFF08\\u4ECA\\u65E5\\u6CE2\\u862D\\u683C\\u4F46\\u65AF\\u514B\\uFF09\\uFF0C\\u4E5F\\u662F1999\\u5E74\\u8AFE\\u8C9D\\u723E\\u6587\\u5B78\\u734E\\u5F97\\u4E3B\\u3002\\u4ED6\\u88AB\\u5EE3\\u6CDB\\u7684\\u8996\\u662F\\u5FB7\\u570B\\u6700\\u6709\\u540D\\u7684\\u4F5C\\u5BB6\\u4E4B\\u4E00\\u3002\\u4ED6\\u65BC1965\\u5E74\\u7372\\u5F97\\u683C\\u5967\\u723E\\u683C\\u00B7\\u7562\\u5E0C\\u7D0D\\u734E\\uFF08Georg B\\u00FCchner Prize\\uFF09\\uFF0C\\u4E26\\u65BC1993\\u5E74\\u88AB\\u9078\\u70BA\\u82F1\\u570B\\u7687\\u5BB6\\u6587\\u5B78\\u6703\\u69AE\\u8B7D\\u9662\\u58EB\\uFF0C\\u4ED6\\u57281995\\u5E74\\u7372\\u5F97\\u8D6B\\u723E\\u66FC\\u00B7\\u51F1\\u65AF\\u6ED5\\u734E\\u3002 \\u541B\\u7279\\u00B7\\u5A01\\u5EC9\\u00B7\\u683C\\u62C9\\u65AF\\u6700\\u8457\\u540D\\u7684\\u4F5C\\u54C1\\u662F\\u300A\\u94C1\\u76AE\\u9F13\\u300B\\uFF0C\\u5B83\\u662F\\u6B27\\u6D32\\u9B54\\u5E7B\\u73B0\\u5B9E\\u4E3B\\u4E49\\u7684\\u4EE3\\u8868\\u4F5C\\u54C1\\uFF0C\\u4E5F\\u662F\\u4F46\\u6FA4\\u4E09\\u90E8\\u66F2\\u7684\\u7B2C\\u4E00\\u90E8\\u4F5C\\u54C1\\uFF08\\u53E6\\u5916\\u5169\\u90E8\\u4F5C\\u54C1\\u662F\\u300A\\u8C93\\u8207\\u8001\\u9F20\\u300B\\u8207\\u300A\\u72D7\\u5E74\\u6708\\u300B\\uFF09\\u3002\\u4ED6\\u7684\\u4F5C\\u54C1\\u5177\\u6709\\u6D53\\u539A\\u7684\\u653F\\u6CBB\\u8272\\u5F69\\uFF0C\\u88AB\\u8996\\u70BA\\u6709\\u5DE6\\u7FFC\\u4F5C\\u5BB6\\uFF0C\\u800C\\u4ED6\\u4E5F\\u662F\\u5FB7\\u56FD\\u793E\\u4F1A\\u6C11\\u4E3B\\u515A\\u7684\\u652F\\u6301\\u8005\\u3002\\u745E\\u5178\\u7687\\u5BB6\\u79D1\\u5B78\\u9662\\u6388\\u4E88\\u4ED61999\\u5E74\\u8AFE\\u8C9D\\u723E\\u6587\\u5B78\\u734E\\uFF0C\\u8A8D\\u70BA\\u4ED6\\u300C\\u4EE5\\u5B09\\u6232\\u4E2D\\u860A\\u542B\\u60B2\\u5287\\u8272\\u5F69\\u7684\\u5BD3\\u8A00\\u63CF\\u6479\\u51FA\\u4E86\\u4EBA\\u985E\\u6DE1\\u5FD8\\u7684\\u6B77\\u53F2\\u9762\\u76EE\\u3002\\u300D&quot; , &quot;lang&quot; : &quot;zh&quot; } ,\n      { &quot;type&quot; : &quot;literal&quot;, &quot;value&quot; : &quot;\\u0413\\u044E\\u043D\\u0442\\u0435\\u0440 \\u0413\\u0440\\u0430\\u0441\\u0441 (\\u043D\\u0435\\u043C. G\\u00FCnter Grass \\u0438\\u043B\\u0438 Gra\\u00DF [\\u02C8\\u0261\\u028Fnt\\u0250 \\u02C8\\u0261\\u0280as]; 16 \\u043E\\u043A\\u0442\\u044F\\u0431\\u0440\\u044F 1927, \\u0412\\u043E\\u043B\\u044C\\u043D\\u044B\\u0439 \\u0433\\u043E\\u0440\\u043E\\u0434 \\u0414\\u0430\\u043D\\u0446\\u0438\\u0433 \\u2014 13 \\u0430\\u043F\\u0440\\u0435\\u043B\\u044F 2015, \\u041B\\u044E\\u0431\\u0435\\u043A, \\u0413\\u0435\\u0440\\u043C\\u0430\\u043D\\u0438\\u044F) \\u2014 \\u043D\\u0435\\u043C\\u0435\\u0446\\u043A\\u0438\\u0439 \\u043F\\u0438\\u0441\\u0430\\u0442\\u0435\\u043B\\u044C, \\u0441\\u043A\\u0443\\u043B\\u044C\\u043F\\u0442\\u043E\\u0440, \\u0445\\u0443\\u0434\\u043E\\u0436\\u043D\\u0438\\u043A, \\u0433\\u0440\\u0430\\u0444\\u0438\\u043A, \\u043B\\u0430\\u0443\\u0440\\u0435\\u0430\\u0442 \\u041D\\u043E\\u0431\\u0435\\u043B\\u0435\\u0432\\u0441\\u043A\\u043E\\u0439 \\u043F\\u0440\\u0435\\u043C\\u0438\\u0438 \\u043F\\u043E \\u043B\\u0438\\u0442\\u0435\\u0440\\u0430\\u0442\\u0443\\u0440\\u0435 1999 \\u0433\\u043E\\u0434\\u0430.&quot; , &quot;lang&quot; : &quot;ru&quot; } ,\n      { &quot;type&quot; : &quot;literal&quot;, &quot;value&quot; : &quot;G\\u00FCnter Wilhelm Grass, n\\u00E9 le 16 octobre 1927 \\u00E0 Danzig-Langfuhr et mort le 13 avril 2015 \\u00E0 L\\u00FCbeck, est un \\u00E9crivain et artiste allemand. Laur\\u00E9at du prix Nobel de litt\\u00E9rature en 1999, Grass est principalement connu pour son roman Le Tambour. Marqu\\u00E9e par l&#39;exp\\u00E9rience traumatique du nazisme, son \\u0153uvre, baroque et ironique, puise son inspiration dans son origine germano-polonaise et condense r\\u00E9alisme et mythe afin d&#39;explorer les m\\u00E9andres de l&#39;Histoire, la m\\u00E9moire et la culpabilit\\u00E9. Consid\\u00E9r\\u00E9 comme l&#39;un des plus grands \\u00E9crivains allemands contemporains et le plus c\\u00E9l\\u00E8bre auteur germanophone de la seconde moiti\\u00E9 du XXe si\\u00E8cle, il est aussi remarqu\\u00E9 pour ses prises de positions politiques \\u00E0 l&#39;origine de nombreuses controverses en Allemagne et \\u00E0 l&#39;international.&quot; , &quot;lang&quot; : &quot;fr&quot; } ,\n      { &quot;type&quot; : &quot;literal&quot;, &quot;value&quot; : &quot;G\\u00FCnter Wilhelm Grass (Ciudad libre de D\\u00E1nzig, actual Polonia, 16 de octubre de 1927 - L\\u00FCbeck, Alemania, 13 de abril de 2015) fue un escritor y artista alem\\u00E1n, galardonado con el Premio Nobel de Literatura y el Premio Pr\\u00EDncipe de Asturias de las Letras, en 1999.&quot; , &quot;lang&quot; : &quot;es&quot; } ,\n      { &quot;type&quot; : &quot;literal&quot;, &quot;value&quot; : &quot;G\\u00FCnter Wilhelm Grass (German: [\\u02C8\\u0261\\u028Fnt\\u0250 \\u02C8\\u0261\\u0281as]; 16 October 1927 \\u2013 13 April 2015) was a German novelist, poet, playwright, illustrator, graphic artist, sculptor, and recipient of the 1999 Nobel Prize in Literature. He was born in the Free City of Danzig (now Gda\\u0144sk, Poland). As a teenager, he served as a drafted soldier from late 1944 in the Waffen-SS, and was taken prisoner of war by U.S. forces at the end of the war in May 1945. He was released in April 1946. Trained as a stonemason and sculptor, Grass began writing in the 1950s. In his fiction, he frequently returned to the Danzig of his childhood. Grass is best known for his first novel, The Tin Drum (1959), a key text in European magic realism. It was the first book of his Danzig Trilogy, the other two being Cat and Mouse and Dog Years. His works are frequently considered to have a left-wing political dimension, and Grass was an active supporter of the Social Democratic Party of Germany (SPD). The Tin Drum was adapted as a film of the same name, which won both the 1979 Palme d&#39;Or and the Academy Award for Best Foreign Language Film. In 1999, the Swedish Academy awarded him the Nobel Prize in Literature, praising him as a writer \\&quot;whose frolicsome black fables portray the forgotten face of history\\&quot;.&quot; , &quot;lang&quot; : &quot;en&quot; } ,\n      { &quot;type&quot; : &quot;literal&quot;, &quot;value&quot; : &quot;G\\u00FCnter Wilhelm Grass (Danzig-Langfuhr, 16 oktober 1927 \\u2013 L\\u00FCbeck, 13 april 2015) was een Duitse schrijver en beeldend kunstenaar van Duits-Kasjoebische afkomst. In 1999 ontving hij de Nobelprijs voor de Literatuur.&quot; , &quot;lang&quot; : &quot;nl&quot; } ,\n      { &quot;type&quot; : &quot;literal&quot;, &quot;value&quot; : &quot;\\u063A\\u0648\\u0646\\u062A\\u0631 \\u063A\\u0631\\u0627\\u0633 (\\u0628\\u0627\\u0644\\u0623\\u0644\\u0645\\u0627\\u0646\\u064A\\u0629: G\\u00FCnter Grass) \\u0623\\u062F\\u064A\\u0628 \\u0623\\u0644\\u0645\\u0627\\u0646\\u064A (16 \\u0623\\u0643\\u062A\\u0648\\u0628\\u0631 1927 - 13 \\u0623\\u0628\\u0631\\u064A\\u0644 2015) \\u0648\\u0644\\u062F \\u0641\\u064A \\u0641\\u064A \\u0645\\u062F\\u064A\\u0646\\u0629 \\u062F\\u0627\\u0646\\u062A\\u0633\\u064A\\u063A (\\u0636\\u0645\\u062A \\u0625\\u0644\\u0649 \\u0628\\u0648\\u0644\\u0646\\u062F\\u0627 \\u0628\\u0639\\u062F \\u0627\\u0644\\u062D\\u0631\\u0628 \\u0627\\u0644\\u0639\\u0627\\u0644\\u0645\\u064A\\u0629 \\u0627\\u0644\\u062B\\u0627\\u0646\\u064A\\u0629). \\u0634\\u0627\\u0631\\u0643 \\u063A\\u0648\\u0646\\u062A\\u0631 \\u063A\\u0631\\u0627\\u0633 \\u0633\\u0646\\u0629 1944 \\u0641\\u064A \\u0627\\u0644\\u062D\\u0631\\u0628 \\u0627\\u0644\\u0639\\u0627\\u0644\\u0645\\u064A\\u0629 \\u0627\\u0644\\u062B\\u0627\\u0646\\u064A\\u0629 \\u0643\\u0645\\u0633\\u0627\\u0639\\u062F \\u0641\\u064A \\u0633\\u0644\\u0627\\u062D \\u0627\\u0644\\u0637\\u064A\\u0631\\u0627\\u0646 \\u0627\\u0644\\u0623\\u0644\\u0645\\u0627\\u0646\\u064A. \\u0648\\u0628\\u0639\\u062F \\u0627\\u0646\\u062A\\u0647\\u0627\\u0621 \\u0627\\u0644\\u062D\\u0631\\u0628 \\u0648\\u0642\\u0639 \\u0633\\u0646\\u0629 1946 \\u0641\\u064A \\u0623\\u0633\\u0631 \\u0627\\u0644\\u0642\\u0648\\u0627\\u062A \\u0627\\u0644\\u0623\\u0645\\u0631\\u064A\\u0643\\u064A\\u0629 \\u0625\\u0644\\u0649 \\u0623\\u0646 \\u0623\\u0637\\u0644\\u0642 \\u0633\\u0631\\u0627\\u062D\\u0647 \\u0641\\u064A \\u0646\\u0641\\u0633 \\u0627\\u0644\\u0633\\u0646\\u0629. \\u064A\\u0639\\u062F \\u063A\\u0648\\u0646\\u062A\\u0631 \\u063A\\u0631\\u0627\\u0633 \\u0623\\u062D\\u062F \\u0623\\u0647\\u0645 \\u0627\\u0644\\u0623\\u062F\\u0628\\u0627\\u0621 \\u0627\\u0644\\u0623\\u0644\\u0645\\u0627\\u0646 \\u0641\\u064A \\u0641\\u062A\\u0631\\u0629 \\u0645\\u0627 \\u0628\\u0639\\u062F \\u0627\\u0644\\u062D\\u0631\\u0628 \\u0627\\u0644\\u0639\\u0627\\u0644\\u0645\\u064A\\u0629 \\u0627\\u0644\\u062B\\u0627\\u0646\\u064A\\u0629, \\u062D\\u0627\\u0632 \\u0639\\u0644\\u0649 \\u062C\\u0627\\u0626\\u0632\\u0629 \\u0646\\u0648\\u0628\\u0644 \\u0644\\u0644\\u0622\\u062F\\u0627\\u0628 \\u0633\\u0646\\u0629 1999.\\u0639\\u0627\\u0634 \\u0622\\u062E\\u0631 \\u0623\\u064A\\u0627\\u0645\\u0647 \\u0628\\u0627\\u0644\\u0642\\u0631\\u0628 \\u0645\\u0646 \\u0645\\u062F\\u064A\\u0646\\u0629 \\u0644\\u0648\\u0628\\u064A\\u0643 \\u0641\\u064A \\u0634\\u0645\\u0627\\u0644 \\u0623\\u0644\\u0645\\u0627\\u0646\\u064A\\u0627.&quot; , &quot;lang&quot; : &quot;ar&quot; } ,\n      { &quot;type&quot; : &quot;literal&quot;, &quot;value&quot; : &quot;G\\u00FCnter Wilhelm Grass (* 16. Oktober 1927 in Danzig-Langfuhr, Freie Stadt Danzig als G\\u00FCnter Wilhelm Gra\\u00DF; \\u2020 13. April 2015 in L\\u00FCbeck) war ein deutscher Schriftsteller, Bildhauer, Maler und Grafiker. Grass geh\\u00F6rte seit 1957 zur Gruppe 47 und wurde mit seinem Deb\\u00FCtroman Die Blechtrommel 1959 zu einem international geachteten Autor der deutschen Nachkriegsliteratur. Grass\\u2019 Werk und Rolle als Autor und politischer Intellektueller war und ist Gegenstand umfangreicher Forschung sowie des Medieninteresses im In- und Ausland. Seine zentrale Motivation war der Verlust seiner Heimat Danzig und die Auseinandersetzung mit der nationalsozialistischen Vergangenheit, die sich vielfach in seinen Werken widerspiegelt. Seine Popularit\\u00E4t als Schriftsteller nutzte er h\\u00E4ufig, um das politische und gesellschaftliche Tagesgeschehen \\u00F6ffentlich zu kommentieren. Er war langj\\u00E4hrig in Wahlk\\u00E4mpfen f\\u00FCr die SPD und die Gr\\u00FCnen aktiv und pr\\u00E4sent. Grass\\u2019 B\\u00FCcher wurden in zahlreiche Sprachen \\u00FCbersetzt und teilweise verfilmt. Im Jahr 1999 erhielt er den Nobelpreis f\\u00FCr Literatur, er wurde mit einer Vielzahl weiterer Auszeichnungen geehrt.&quot; , &quot;lang&quot; : &quot;de&quot; } ,\n      { &quot;type&quot; : &quot;literal&quot;, &quot;value&quot; : &quot;G\\u00FCnter Wilhelm Grass (Danzig, 16 de outubro de 1927 \\u2013 L\\u00FCbeck, 13 de abril de 2015) foi um autor, romancista, dramaturgo, poeta, intelectual, e artista pl\\u00E1stico alem\\u00E3o. Sua obra alternou a atividade liter\\u00E1ria com a escultura, enquanto participava de forma ativa da vida p\\u00FAblica de seu pa\\u00EDs. Recebeu o Nobel de Literatura de 1999. Tamb\\u00E9m \\u00E9 reconhecido como um dos principais representantes do teatro do absurdo da Alemanha. Seu nome \\u00E9 por vezes grafado G\\u00FCnter Gra\\u00DF.&quot; , &quot;lang&quot; : &quot;pt&quot; } ,\n      { &quot;type&quot; : &quot;literal&quot;, &quot;value&quot; : &quot;\\u30AE\\u30E5\\u30F3\\u30BF\\u30FC\\u30FB\\u30B0\\u30E9\\u30B9\\uFF08G\\u00FCnter Grass, 1927\\u5E7410\\u670816\\u65E5 - 2015\\u5E744\\u670813\\u65E5\\uFF09\\u306F\\u3001\\u30C9\\u30A4\\u30C4\\u306E\\u5C0F\\u8AAC\\u5BB6\\u3001\\u5287\\u4F5C\\u5BB6\\u3001\\u7248\\u753B\\u5BB6\\u3001\\u5F6B\\u523B\\u5BB6\\u3002\\u4EE3\\u8868\\u4F5C\\u306B\\u300E\\u30D6\\u30EA\\u30AD\\u306E\\u592A\\u9F13\\u300F\\u306A\\u3069\\u30021999\\u5E74\\u306B\\u30CE\\u30FC\\u30D9\\u30EB\\u6587\\u5B66\\u8CDE\\u53D7\\u8CDE\\u3002&quot; , &quot;lang&quot; : &quot;ja&quot; } ] ,\n    &quot;http://dbpedia.org/ontology/thumbnail&quot; : [ { &quot;type&quot; : &quot;uri&quot;, &quot;value&quot; : &quot;http://commons.wikimedia.org/wiki/Special:FilePath/G\\u00FCnter_Grass_auf_dem_Blauen_Sofa.jpg?width=300&quot; } ] ,\n    &quot;http://dbpedia.org/ontology/birthDate&quot; : [ { &quot;type&quot; : &quot;literal&quot;, &quot;value&quot; : &quot;1927-10-16&quot; , &quot;datatype&quot; : &quot;http://www.w3.org/2001/XMLSchema#date&quot; } ] ,\n    &quot;http://dbpedia.org/ontology/deathDate&quot; : [ { &quot;type&quot; : &quot;literal&quot;, &quot;value&quot; : &quot;2015-4-13&quot; , &quot;datatype&quot; : &quot;http://www.w3.org/2001/XMLSchema#date&quot; } ,\n      { &quot;type&quot; : &quot;literal&quot;, &quot;value&quot; : &quot;2015-04-13&quot; , &quot;datatype&quot; : &quot;http://www.w3.org/2001/XMLSchema#date&quot; } ] ,\n    &quot;http://dbpedia.org/ontology/deathPlace&quot; : [ { &quot;type&quot; : &quot;uri&quot;, &quot;value&quot; : &quot;http://dbpedia.org/resource/L\\u00FCbeck&quot; } ] ,\n    &quot;http://dbpedia.org/ontology/wikiPageRevisionID&quot; : [ { &quot;type&quot; : &quot;literal&quot;, &quot;value&quot; : 744781559 , &quot;datatype&quot; : &quot;http://www.w3.org/2001/XMLSchema#integer&quot; } ] ,\n    &quot;http://dbpedia.org/ontology/birthPlace&quot; : [ { &quot;type&quot; : &quot;uri&quot;, &quot;value&quot; : &quot;http://dbpedia.org/resource/Free_City_of_Danzig&quot; } ,\n      { &quot;type&quot; : &quot;uri&quot;, &quot;value&quot; : &quot;http://dbpedia.org/resource/Wrzeszcz&quot; } ] ,\n    &quot;http://dbpedia.org/ontology/wikiPageID&quot; : [ { &quot;type&quot; : &quot;literal&quot;, &quot;value&quot; : 23473348 , &quot;datatype&quot; : &quot;http://www.w3.org/2001/XMLSchema#integer&quot; } ] ,\n    &quot;http://dbpedia.org/ontology/activeYearsEndYear&quot; : [ { &quot;type&quot; : &quot;literal&quot;, &quot;value&quot; : &quot;2013&quot; , &quot;datatype&quot; : &quot;http://www.w3.org/2001/XMLSchema#gYear&quot; } ] ,\n    &quot;http://purl.org/linguistics/gold/hypernym&quot; : [ { &quot;type&quot; : &quot;uri&quot;, &quot;value&quot; : &quot;http://dbpedia.org/resource/Novelist&quot; } ] ,\n    &quot;http://dbpedia.org/ontology/ethnicity&quot; : [ { &quot;type&quot; : &quot;uri&quot;, &quot;value&quot; : &quot;http://dbpedia.org/resource/Kashubians&quot; } ,\n      { &quot;type&quot; : &quot;uri&quot;, &quot;value&quot; : &quot;http://dbpedia.org/resource/German_language&quot; } ] } ,\n  &quot;http://dbpedia.org/resource/Grass_(disambiguation)&quot; : { &quot;http://dbpedia.org/ontology/wikiPageDisambiguates&quot; : [ { &quot;type&quot; : &quot;uri&quot;, &quot;value&quot; : &quot;http://dbpedia.org/resource/G\\u00FCnter_Grass&quot; } ] } ,\n  &quot;http://dbpedia.org/resource/The_Rat_(novel)&quot; : { &quot;http://dbpedia.org/ontology/author&quot; : [ { &quot;type&quot; : &quot;uri&quot;, &quot;value&quot; : &quot;http://dbpedia.org/resource/G\\u00FCnter_Grass&quot; } ] } ,\n  &quot;http://dbpedia.org/resource/Pramoedya_Ananta_Toer&quot; : { &quot;http://dbpedia.org/ontology/influencedBy&quot; : [ { &quot;type&quot; : &quot;uri&quot;, &quot;value&quot; : &quot;http://dbpedia.org/resource/G\\u00FCnter_Grass&quot; } ] } ,\n  &quot;http://dbpedia.org/resource/Barun_Roy&quot; : { &quot;http://dbpedia.org/ontology/influencedBy&quot; : [ { &quot;type&quot; : &quot;uri&quot;, &quot;value&quot; : &quot;http://dbpedia.org/resource/G\\u00FCnter_Grass&quot; } ] } ,\n  &quot;http://dbpedia.org/resource/List_of_people_declared_persona_non_grata&quot; : { &quot;http://dbpedia.org/property/caption&quot; : [ { &quot;type&quot; : &quot;uri&quot;, &quot;value&quot; : &quot;http://dbpedia.org/resource/G\\u00FCnter_Grass&quot; } ] } ,\n  &quot;http://dbpedia.org/resource/G\\u00FCnther_Grass&quot; : { &quot;http://dbpedia.org/ontology/wikiPageRedirects&quot; : [ { &quot;type&quot; : &quot;uri&quot;, &quot;value&quot; : &quot;http://dbpedia.org/resource/G\\u00FCnter_Grass&quot; } ] } ,\n  &quot;http://dbpedia.org/resource/While_Skinning_an_Onion&quot; : { &quot;http://dbpedia.org/ontology/wikiPageRedirects&quot; : [ { &quot;type&quot; : &quot;uri&quot;, &quot;value&quot; : &quot;http://dbpedia.org/resource/G\\u00FCnter_Grass&quot; } ] } ,\n  &quot;http://dbpedia.org/resource/Guenter_Wilhelm_Grass&quot; : { &quot;http://dbpedia.org/ontology/wikiPageRedirects&quot; : [ { &quot;type&quot; : &quot;uri&quot;, &quot;value&quot; : &quot;http://dbpedia.org/resource/G\\u00FCnter_Grass&quot; } ] } ,\n  &quot;http://dbpedia.org/resource/G\\u00FCnter_Wilhelm_Grass&quot; : { &quot;http://dbpedia.org/ontology/wikiPageRedirects&quot; : [ { &quot;type&quot; : &quot;uri&quot;, &quot;value&quot; : &quot;http://dbpedia.org/resource/G\\u00FCnter_Grass&quot; } ] } ,\n  &quot;http://dbpedia.org/resource/Gunter_Wilhelm_Grass&quot; : { &quot;http://dbpedia.org/ontology/wikiPageRedirects&quot; : [ { &quot;type&quot; : &quot;uri&quot;, &quot;value&quot; : &quot;http://dbpedia.org/resource/G\\u00FCnter_Grass&quot; } ] } ,\n  &quot;http://dbpedia.org/resource/Guenter_Grass&quot; : { &quot;http://dbpedia.org/ontology/wikiPageRedirects&quot; : [ { &quot;type&quot; : &quot;uri&quot;, &quot;value&quot; : &quot;http://dbpedia.org/resource/G\\u00FCnter_Grass&quot; } ] } ,\n  &quot;http://dbpedia.org/resource/Guenther_Grass&quot; : { &quot;http://dbpedia.org/ontology/wikiPageRedirects&quot; : [ { &quot;type&quot; : &quot;uri&quot;, &quot;value&quot; : &quot;http://dbpedia.org/resource/G\\u00FCnter_Grass&quot; } ] } ,\n  &quot;http://dbpedia.org/resource/Gunter_Grass&quot; : { &quot;http://dbpedia.org/ontology/wikiPageRedirects&quot; : [ { &quot;type&quot; : &quot;uri&quot;, &quot;value&quot; : &quot;http://dbpedia.org/resource/G\\u00FCnter_Grass&quot; } ] } ,\n  &quot;http://dbpedia.org/resource/Gunther_Grass&quot; : { &quot;http://dbpedia.org/ontology/wikiPageRedirects&quot; : [ { &quot;type&quot; : &quot;uri&quot;, &quot;value&quot; : &quot;http://dbpedia.org/resource/G\\u00FCnter_Grass&quot; } ] } ,\n  &quot;http://dbpedia.org/resource/Gunter_Gr\\u00E4ss&quot; : { &quot;http://dbpedia.org/ontology/wikiPageRedirects&quot; : [ { &quot;type&quot; : &quot;uri&quot;, &quot;value&quot; : &quot;http://dbpedia.org/resource/G\\u00FCnter_Grass&quot; } ] } ,\n  &quot;http://dbpedia.org/resource/Gunther_Wilhelm_Grass&quot; : { &quot;http://dbpedia.org/ontology/wikiPageRedirects&quot; : [ { &quot;type&quot; : &quot;uri&quot;, &quot;value&quot; : &quot;http://dbpedia.org/resource/G\\u00FCnter_Grass&quot; } ] }\n}\n\n"
    }
   ],
   "source": [
    "import io\n",
    "import requests\n",
    "import json\n",
    "url_drum = \"http://dbpedia.org/data/The_Tin_Drum.jsod\"\n",
    "js_drum = requests.get(url_drum)\n",
    "json_drum = js_drum.json()\n",
    "url_grass = json_drum[\"d\"][\"results\"][0][\"http://dbpedia.org/ontology/author\"][\"__deferred\"][\"uri\"]\n",
    "\n",
    "##### Formatar url para proxima chamada ######\n",
    "url_grass = url_grass.replace(\"resource\", \"data\", 1) + \".json\"\n",
    "print(url_grass)\n",
    "js_grass = requests.get(url_grass)\n",
    "print(js_grass.content.decode(\"utf-8\"))\n"
   ]
  },
  {
   "cell_type": "markdown",
   "metadata": {},
   "source": [
    "## Tarefa\n",
    "### Quais os livros escritos por Günter Grass?"
   ]
  },
  {
   "cell_type": "code",
   "execution_count": 30,
   "metadata": {
    "tags": []
   },
   "outputs": [
    {
     "output_type": "stream",
     "name": "stdout",
     "text": "Trabalhos notáveis:\n  - What Must Be Said\n  - Cat and Mouse (novella)\n  - Crabwalk\n  - The Tin Drum\n  - Dog Years (novel)\n"
    }
   ],
   "source": [
    "import io\n",
    "import requests\n",
    "import json\n",
    "\n",
    "url_drum = \"http://dbpedia.org/data/The_Tin_Drum.jsod\"\n",
    "js_drum = requests.get(url_drum)\n",
    "json_drum = js_drum.json()\n",
    "url_grass = json_drum[\"d\"][\"results\"][0][\"http://dbpedia.org/ontology/author\"][\"__deferred\"][\"uri\"]\n",
    "\n",
    "##### Formatar url para proxima chamada ######\n",
    "url_grass = url_grass.replace(\"resource\", \"data\", 1) + \".json\"\n",
    "js_grass = requests.get(url_grass).json()\n",
    "\n",
    "### Acessar livros ###\n",
    "books = js_grass[\"http://dbpedia.org/resource/Günter_Grass\"][\"http://dbpedia.org/ontology/notableWork\"]\n",
    "\n",
    "print(\"Trabalhos notáveis:\")\n",
    "for b in books:\n",
    "    print(\"  - \" + b[\"value\"].split(\"/\")[-1].replace(\"_\", \" \"))\n",
    "\n",
    "\n"
   ]
  },
  {
   "cell_type": "markdown",
   "metadata": {},
   "source": [
    "# MeSH - Medical Subject Headings\n",
    "\n",
    "## Pesquisa para humanos\n",
    "\n",
    "Através do endereço [MeSH Search](https://meshb.nlm.nih.gov/search).\n",
    "\n",
    "Procure o termo: Myocardial Infarction.\n",
    "\n",
    "## Serviços para Máquinas\n",
    "\n",
    "É possível acessar os mesmos dados pela [API JSON](https://id.nlm.nih.gov/mesh/swagger/ui).\n",
    "\n",
    "Buscando o código de Myocardial Infarction:"
   ]
  },
  {
   "cell_type": "code",
   "execution_count": 32,
   "metadata": {
    "tags": []
   },
   "outputs": [
    {
     "output_type": "stream",
     "name": "stdout",
     "text": "[{&quot;resource&quot;:&quot;http://id.nlm.nih.gov/mesh/D009203&quot;,&quot;label&quot;:&quot;Myocardial Infarction&quot;}]\n"
    }
   ],
   "source": [
    "url_mi = \"https://id.nlm.nih.gov/mesh/lookup/descriptor?label=Myocardial%20Infarction&match=exact&limit=10\"\n",
    "js_mi = requests.get(url_mi)\n",
    "print(js_mi.content.decode(\"utf-8\"))"
   ]
  },
  {
   "cell_type": "markdown",
   "metadata": {},
   "source": [
    "Acessando detalhes a partir do código:"
   ]
  },
  {
   "cell_type": "code",
   "execution_count": 33,
   "metadata": {
    "tags": []
   },
   "outputs": [
    {
     "output_type": "stream",
     "name": "stdout",
     "text": "{&quot;descriptor&quot;:&quot;http://id.nlm.nih.gov/mesh/D009203&quot;,&quot;terms&quot;:[{&quot;resource&quot;:&quot;http://id.nlm.nih.gov/mesh/T027447&quot;,&quot;label&quot;:&quot;Myocardial Infarction&quot;,&quot;preferred&quot;:true},{&quot;resource&quot;:&quot;http://id.nlm.nih.gov/mesh/T855594&quot;,&quot;label&quot;:&quot;Cardiovascular Stroke&quot;,&quot;preferred&quot;:false},{&quot;resource&quot;:&quot;http://id.nlm.nih.gov/mesh/T000866941&quot;,&quot;label&quot;:&quot;Heart Attack&quot;,&quot;preferred&quot;:false},{&quot;resource&quot;:&quot;http://id.nlm.nih.gov/mesh/T027448&quot;,&quot;label&quot;:&quot;Myocardial Infarct&quot;,&quot;preferred&quot;:false}],&quot;qualifiers&quot;:[{&quot;resource&quot;:&quot;http://id.nlm.nih.gov/mesh/Q000097&quot;,&quot;label&quot;:&quot;blood&quot;},{&quot;resource&quot;:&quot;http://id.nlm.nih.gov/mesh/Q000134&quot;,&quot;label&quot;:&quot;cerebrospinal fluid&quot;},{&quot;resource&quot;:&quot;http://id.nlm.nih.gov/mesh/Q000139&quot;,&quot;label&quot;:&quot;chemically induced&quot;},{&quot;resource&quot;:&quot;http://id.nlm.nih.gov/mesh/Q000145&quot;,&quot;label&quot;:&quot;classification&quot;},{&quot;resource&quot;:&quot;http://id.nlm.nih.gov/mesh/Q000150&quot;,&quot;label&quot;:&quot;complications&quot;},{&quot;resource&quot;:&quot;http://id.nlm.nih.gov/mesh/Q000151&quot;,&quot;label&quot;:&quot;congenital&quot;},{&quot;resource&quot;:&quot;http://id.nlm.nih.gov/mesh/Q000175&quot;,&quot;label&quot;:&quot;diagnosis&quot;},{&quot;resource&quot;:&quot;http://id.nlm.nih.gov/mesh/Q000000981&quot;,&quot;label&quot;:&quot;diagnostic imaging&quot;},{&quot;resource&quot;:&quot;http://id.nlm.nih.gov/mesh/Q000178&quot;,&quot;label&quot;:&quot;diet therapy&quot;},{&quot;resource&quot;:&quot;http://id.nlm.nih.gov/mesh/Q000188&quot;,&quot;label&quot;:&quot;drug therapy&quot;},{&quot;resource&quot;:&quot;http://id.nlm.nih.gov/mesh/Q000191&quot;,&quot;label&quot;:&quot;economics&quot;},{&quot;resource&quot;:&quot;http://id.nlm.nih.gov/mesh/Q000196&quot;,&quot;label&quot;:&quot;embryology&quot;},{&quot;resource&quot;:&quot;http://id.nlm.nih.gov/mesh/Q000201&quot;,&quot;label&quot;:&quot;enzymology&quot;},{&quot;resource&quot;:&quot;http://id.nlm.nih.gov/mesh/Q000453&quot;,&quot;label&quot;:&quot;epidemiology&quot;},{&quot;resource&quot;:&quot;http://id.nlm.nih.gov/mesh/Q000208&quot;,&quot;label&quot;:&quot;ethnology&quot;},{&quot;resource&quot;:&quot;http://id.nlm.nih.gov/mesh/Q000209&quot;,&quot;label&quot;:&quot;etiology&quot;},{&quot;resource&quot;:&quot;http://id.nlm.nih.gov/mesh/Q000235&quot;,&quot;label&quot;:&quot;genetics&quot;},{&quot;resource&quot;:&quot;http://id.nlm.nih.gov/mesh/Q000266&quot;,&quot;label&quot;:&quot;history&quot;},{&quot;resource&quot;:&quot;http://id.nlm.nih.gov/mesh/Q000276&quot;,&quot;label&quot;:&quot;immunology&quot;},{&quot;resource&quot;:&quot;http://id.nlm.nih.gov/mesh/Q000378&quot;,&quot;label&quot;:&quot;metabolism&quot;},{&quot;resource&quot;:&quot;http://id.nlm.nih.gov/mesh/Q000382&quot;,&quot;label&quot;:&quot;microbiology&quot;},{&quot;resource&quot;:&quot;http://id.nlm.nih.gov/mesh/Q000401&quot;,&quot;label&quot;:&quot;mortality&quot;},{&quot;resource&quot;:&quot;http://id.nlm.nih.gov/mesh/Q000451&quot;,&quot;label&quot;:&quot;nursing&quot;},{&quot;resource&quot;:&quot;http://id.nlm.nih.gov/mesh/Q000469&quot;,&quot;label&quot;:&quot;parasitology&quot;},{&quot;resource&quot;:&quot;http://id.nlm.nih.gov/mesh/Q000473&quot;,&quot;label&quot;:&quot;pathology&quot;},{&quot;resource&quot;:&quot;http://id.nlm.nih.gov/mesh/Q000503&quot;,&quot;label&quot;:&quot;physiopathology&quot;},{&quot;resource&quot;:&quot;http://id.nlm.nih.gov/mesh/Q000517&quot;,&quot;label&quot;:&quot;prevention &amp; control&quot;},{&quot;resource&quot;:&quot;http://id.nlm.nih.gov/mesh/Q000523&quot;,&quot;label&quot;:&quot;psychology&quot;},{&quot;resource&quot;:&quot;http://id.nlm.nih.gov/mesh/Q000532&quot;,&quot;label&quot;:&quot;radiotherapy&quot;},{&quot;resource&quot;:&quot;http://id.nlm.nih.gov/mesh/Q000534&quot;,&quot;label&quot;:&quot;rehabilitation&quot;},{&quot;resource&quot;:&quot;http://id.nlm.nih.gov/mesh/Q000601&quot;,&quot;label&quot;:&quot;surgery&quot;},{&quot;resource&quot;:&quot;http://id.nlm.nih.gov/mesh/Q000628&quot;,&quot;label&quot;:&quot;therapy&quot;},{&quot;resource&quot;:&quot;http://id.nlm.nih.gov/mesh/Q000652&quot;,&quot;label&quot;:&quot;urine&quot;},{&quot;resource&quot;:&quot;http://id.nlm.nih.gov/mesh/Q000662&quot;,&quot;label&quot;:&quot;veterinary&quot;},{&quot;resource&quot;:&quot;http://id.nlm.nih.gov/mesh/Q000821&quot;,&quot;label&quot;:&quot;virology&quot;}],&quot;seealso&quot;:[{&quot;resource&quot;:&quot;http://id.nlm.nih.gov/mesh/D006342&quot;,&quot;label&quot;:&quot;Heart Rupture, Post-Infarction&quot;}]}\n"
    }
   ],
   "source": [
    "url_mid = \"https://id.nlm.nih.gov/mesh/lookup/details?descriptor=D009203\"\n",
    "js_mid = requests.get(url_mid)\n",
    "print(js_mid.content.decode(\"utf-8\"))"
   ]
  },
  {
   "cell_type": "markdown",
   "metadata": {},
   "source": [
    "## Tarefa\n",
    "### Quais os termos usados para Aspirina (consulta JSON/MeSH em Python)?"
   ]
  },
  {
   "cell_type": "code",
   "execution_count": 45,
   "metadata": {
    "tags": []
   },
   "outputs": [
    {
     "output_type": "stream",
     "name": "stdout",
     "text": "Termos:\n   - Aspirin, preferred\n   - 2-(Acetyloxy)benzoic Acid\n   - Acetylsalicylic Acid\n   - Acetysal\n   - Acylpyrin\n   - Aloxiprimum\n   - Colfarit\n   - Dispril\n   - Easprin\n   - Ecotrin\n   - Endosprin\n   - Magnecyl\n   - Micristin\n   - Polopirin\n   - Polopiryna\n   - Solprin\n   - Solupsan\n   - Zorprin\n"
    }
   ],
   "source": [
    "import json\n",
    "import requests\n",
    "\n",
    "#pesquisa\n",
    "url_ser = \"https://id.nlm.nih.gov/mesh/lookup/descriptor?label=aspirin&match=exact&limit=10\"\n",
    "js_ser = requests.get(url_ser).json()\n",
    "\n",
    "#coletar descritor\n",
    "descriptor = js_ser[0][\"resource\"].split(\"/\")[-1]\n",
    "\n",
    "#nova chamada\n",
    "url_as = \"https://id.nlm.nih.gov/mesh/lookup/details?descriptor=\" + str(descriptor)\n",
    "js_as = requests.get(url_as).json()\n",
    "\n",
    "termos = js_as[\"terms\"]\n",
    "print(\"Termos:\")\n",
    "\n",
    "for i in termos:\n",
    "    print(\"   - \" + i[\"label\"], end=\"\")\n",
    "    if i[\"preferred\"]:\n",
    "        print(\", preferred\", end='')\n",
    "\n",
    "    print()\n",
    "\n",
    "\n"
   ]
  }
 ],
 "metadata": {
  "kernelspec": {
   "display_name": "Python 3",
   "language": "python",
   "name": "python3"
  },
  "language_info": {
   "codemirror_mode": {
    "name": "ipython",
    "version": 3
   },
   "file_extension": ".py",
   "mimetype": "text/x-python",
   "name": "python",
   "nbconvert_exporter": "python",
   "pygments_lexer": "ipython3",
   "version": "3.8.3-final"
  }
 },
 "nbformat": 4,
 "nbformat_minor": 4
}
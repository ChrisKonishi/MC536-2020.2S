{
 "cells": [
  {
   "cell_type": "markdown",
   "metadata": {},
   "source": [
    "# Acessando a DBPedia\n",
    "\n",
    "Considere a página na Wikipedia do livro [The Tin Drum](https://en.wikipedia.org/wiki/The_Tin_Drum).\n",
    "\n",
    "Há um nó equivalente na DBPedia em [The Tin Drum](http://dbpedia.org/page/The_Tin_Drum).\n",
    "\n",
    "## Carregando um nó da DBPedia\n",
    "\n",
    "A partir do que aprendemos na aula sobre APIs, é possível carregar o conteúdo em JSON desse nó da seguinte maneira:"
   ]
  },
  {
   "cell_type": "code",
   "execution_count": null,
   "metadata": {
    "tags": [
     "outputPrepend"
    ]
   },
   "outputs": [],
   "source": [
    "import io\n",
    "import requests\n",
    "import json\n",
    "url_drum = \"http://dbpedia.org/data/The_Tin_Drum.jsod\"\n",
    "js_drum = requests.get(url_drum)\n",
    "print(js_drum.content.decode(\"utf-8\"))"
   ]
  },
  {
   "cell_type": "markdown",
   "metadata": {},
   "source": [
    "# Acessando e navegando pelo Grafo\n",
    "### Quem é autor de The Tin Drum?"
   ]
  },
  {
   "cell_type": "code",
   "execution_count": null,
   "metadata": {
    "tags": []
   },
   "outputs": [],
   "source": [
    "json_drum = js_drum.json()\n",
    "url_grass = json_drum[\"d\"][\"results\"][0][\"http://dbpedia.org/ontology/author\"][\"__deferred\"][\"uri\"]\n",
    "print(\"Autor de The Tin Drum: \" + url_grass)"
   ]
  },
  {
   "cell_type": "markdown",
   "metadata": {},
   "source": [
    "## Tarefa\n",
    "\n",
    "### Carregue o nó de Günter Grass em Python e mostre o conteúdo JSON."
   ]
  },
  {
   "cell_type": "code",
   "execution_count": 1,
   "metadata": {
    "tags": []
   },
   "outputs": [
    {
     "output_type": "stream",
     "name": "stdout",
     "text": "Primeiros 1500 caracteres\n\n{\n  &quot;http://dbpedia.org/resource/The_Tin_Drum&quot; : { &quot;http://dbpedia.org/ontology/author&quot; : [ { &quot;type&quot; : &quot;uri&quot;, &quot;value&quot; : &quot;http://dbpedia.org/resource/G\\u00FCnter_Grass&quot; } ] ,\n    &quot;http://dbpedia.org/ontology/coverArtist&quot; : [ { &quot;type&quot; : &quot;uri&quot;, &quot;value&quot; : &quot;http://dbpedia.org/resource/G\\u00FCnter_Grass&quot; } ] } ,\n  &quot;http://dbpedia.org/resource/The_Meeting_at_Telgte&quot; : { &quot;http://dbpedia.org/ontology/author&quot; : [ { &quot;type&quot; : &quot;uri&quot;, &quot;value&quot; : &quot;http://dbpedia.org/resource/G\\u00FCnter_Grass&quot; } ] } ,\n  &quot;http://dbpedia.org/resource/The_Box_(Grass_book)&quot; : { &quot;http://dbpedia.org/ontology/author&quot; : [ { &quot;type&quot; : &quot;uri&quot;, &quot;value&quot; : &quot;http://dbpedia.org/resource/G\\u00FCnter_Grass&quot; } ] } ,\n  &quot;http://dbpedia.org/resource/Local_Anaesthetic_(novel)&quot; : { &quot;http://dbpedia.org/ontology/author&quot; : [ { &quot;type&quot; : &quot;uri&quot;, &quot;value&quot; : &quot;http://dbpedia.org/resource/G\\u00FCnter_Grass&quot; } ] } ,\n  &quot;http://dbpedia.org/resource/What_Must_Be_Said&quot; : { &quot;http://dbpedia.org/property/author&quot; : [ { &quot;type&quot; : &quot;uri&quot;, &quot;value&quot; : &quot;http://dbpedia.org/resource/G\\u00FCnter_Grass&quot; } ] } ,\n  &quot;http://dbpedia.org/resource/The_Flounder&quot; : { &quot;http://dbpedia.org/ontology/author&quot; : [ { &quot;type&quot; : &quot;uri&quot;, &quot;value&quot; : &quot;http://dbpedia.org/resource/G\\u00FCnter_Grass&quot; } ] } ,\n  &quot;http://dbpedia.org/resource/Denis_Diderot&quot; : { &quot;http://dbpedia.org/ontology/influenced&quot; : [ { &quot;type&quot; : &quot;uri&quot;, &quot;value&quot; : &quot;http://dbpedia.org/resource/G\\u00FCnter_Grass&quot; } ] } ,\n  &quot;http://dbpedia.org/resource/John_Irving&quot; : { &quot;http://dbpedia.org/ontology/influencedBy&quot; : [ { &quot;type&quot; : &quot;u\n"
    }
   ],
   "source": [
    "import io\n",
    "import requests\n",
    "import json\n",
    "url_drum = \"http://dbpedia.org/data/The_Tin_Drum.jsod\"\n",
    "js_drum = requests.get(url_drum)\n",
    "json_drum = js_drum.json()\n",
    "url_grass = json_drum[\"d\"][\"results\"][0][\"http://dbpedia.org/ontology/author\"][\"__deferred\"][\"uri\"]\n",
    "\n",
    "##### Formatar url para proxima chamada ######\n",
    "url_grass = url_grass.replace(\"resource\", \"data\", 1) + \".json\"\n",
    "js_grass = requests.get(url_grass)\n",
    "print(\"Primeiros 1500 caracteres\\n\")\n",
    "print(js_grass.content.decode(\"utf-8\")[:1500])\n"
   ]
  },
  {
   "cell_type": "markdown",
   "metadata": {},
   "source": [
    "## Tarefa\n",
    "### Quais os livros escritos por Günter Grass?"
   ]
  },
  {
   "cell_type": "code",
   "execution_count": 2,
   "metadata": {
    "tags": []
   },
   "outputs": [
    {
     "output_type": "stream",
     "name": "stdout",
     "text": "Trabalhos notáveis:\n  - What Must Be Said\n  - Cat and Mouse (novella)\n  - Crabwalk\n  - The Tin Drum\n  - Dog Years (novel)\n"
    }
   ],
   "source": [
    "import io\n",
    "import requests\n",
    "import json\n",
    "\n",
    "url_drum = \"http://dbpedia.org/data/The_Tin_Drum.jsod\"\n",
    "js_drum = requests.get(url_drum)\n",
    "json_drum = js_drum.json()\n",
    "url_grass = json_drum[\"d\"][\"results\"][0][\"http://dbpedia.org/ontology/author\"][\"__deferred\"][\"uri\"]\n",
    "\n",
    "##### Formatar url para proxima chamada ######\n",
    "url_grass = url_grass.replace(\"resource\", \"data\", 1) + \".json\"\n",
    "js_grass = requests.get(url_grass).json()\n",
    "\n",
    "### Acessar livros ###\n",
    "books = js_grass[\"http://dbpedia.org/resource/Günter_Grass\"][\"http://dbpedia.org/ontology/notableWork\"]\n",
    "\n",
    "print(\"Trabalhos notáveis:\")\n",
    "for b in books:\n",
    "    print(\"  - \" + b[\"value\"].split(\"/\")[-1].replace(\"_\", \" \"))\n",
    "\n",
    "\n"
   ]
  },
  {
   "cell_type": "markdown",
   "metadata": {},
   "source": [
    "# MeSH - Medical Subject Headings\n",
    "\n",
    "## Pesquisa para humanos\n",
    "\n",
    "Através do endereço [MeSH Search](https://meshb.nlm.nih.gov/search).\n",
    "\n",
    "Procure o termo: Myocardial Infarction.\n",
    "\n",
    "## Serviços para Máquinas\n",
    "\n",
    "É possível acessar os mesmos dados pela [API JSON](https://id.nlm.nih.gov/mesh/swagger/ui).\n",
    "\n",
    "Buscando o código de Myocardial Infarction:"
   ]
  },
  {
   "cell_type": "code",
   "execution_count": null,
   "metadata": {
    "tags": []
   },
   "outputs": [],
   "source": [
    "url_mi = \"https://id.nlm.nih.gov/mesh/lookup/descriptor?label=Myocardial%20Infarction&match=exact&limit=10\"\n",
    "js_mi = requests.get(url_mi)\n",
    "print(js_mi.content.decode(\"utf-8\"))"
   ]
  },
  {
   "cell_type": "markdown",
   "metadata": {},
   "source": [
    "Acessando detalhes a partir do código:"
   ]
  },
  {
   "cell_type": "code",
   "execution_count": null,
   "metadata": {
    "tags": []
   },
   "outputs": [],
   "source": [
    "url_mid = \"https://id.nlm.nih.gov/mesh/lookup/details?descriptor=D009203\"\n",
    "js_mid = requests.get(url_mid)\n",
    "print(js_mid.content.decode(\"utf-8\"))"
   ]
  },
  {
   "cell_type": "markdown",
   "metadata": {},
   "source": [
    "## Tarefa\n",
    "### Quais os termos usados para Aspirina (consulta JSON/MeSH em Python)?"
   ]
  },
  {
   "cell_type": "code",
   "execution_count": 3,
   "metadata": {
    "tags": []
   },
   "outputs": [
    {
     "output_type": "stream",
     "name": "stdout",
     "text": "Termos:\n   - Aspirin, preferred\n   - 2-(Acetyloxy)benzoic Acid\n   - Acetylsalicylic Acid\n   - Acetysal\n   - Acylpyrin\n   - Aloxiprimum\n   - Colfarit\n   - Dispril\n   - Easprin\n   - Ecotrin\n   - Endosprin\n   - Magnecyl\n   - Micristin\n   - Polopirin\n   - Polopiryna\n   - Solprin\n   - Solupsan\n   - Zorprin\n"
    }
   ],
   "source": [
    "import json\n",
    "import requests\n",
    "\n",
    "#pesquisa\n",
    "url_ser = \"https://id.nlm.nih.gov/mesh/lookup/descriptor?label=aspirin&match=exact&limit=10\"\n",
    "js_ser = requests.get(url_ser).json()\n",
    "\n",
    "#coletar descritor\n",
    "descriptor = js_ser[0][\"resource\"].split(\"/\")[-1]\n",
    "\n",
    "#nova chamada\n",
    "url_as = \"https://id.nlm.nih.gov/mesh/lookup/details?descriptor=\" + str(descriptor)\n",
    "js_as = requests.get(url_as).json()\n",
    "\n",
    "termos = js_as[\"terms\"]\n",
    "print(\"Termos:\")\n",
    "\n",
    "for i in termos:\n",
    "    print(\"   - \" + i[\"label\"], end=\"\")\n",
    "    if i[\"preferred\"]:\n",
    "        print(\", preferred\", end='')\n",
    "\n",
    "    print()\n",
    "\n",
    "\n"
   ]
  },
  {
   "cell_type": "code",
   "execution_count": null,
   "metadata": {},
   "outputs": [],
   "source": []
  }
 ],
 "metadata": {
  "kernelspec": {
   "display_name": "Python 3",
   "language": "python",
   "name": "python3"
  },
  "language_info": {
   "codemirror_mode": {
    "name": "ipython",
    "version": 3
   },
   "file_extension": ".py",
   "mimetype": "text/x-python",
   "name": "python",
   "nbconvert_exporter": "python",
   "pygments_lexer": "ipython3",
   "version": "3.8.3-final"
  }
 },
 "nbformat": 4,
 "nbformat_minor": 4
}
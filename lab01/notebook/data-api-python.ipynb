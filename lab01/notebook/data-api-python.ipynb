{
 "cells": [
  {
   "cell_type": "markdown",
   "metadata": {},
   "source": [
    "# World Health Organization Data\n",
    "\n",
    "## Global Health Observatory\n",
    "\n",
    "* [Data query API](https://apps.who.int/gho/data/node.resources.api)\n",
    "* [GHO OData API ](https://www.who.int/data/gho/info/gho-odata-api)\n",
    "\n",
    "Exemplos de API: [https://www.who.int/data/gho/info/athena-api-examples](https://www.who.int/data/gho/info/athena-api-examples).\n",
    "\n",
    "Para se determinar o tipo de informação para acesso veja a [lista de dimensões e códigos](https://apps.who.int/gho/athena/api/GHO). Utilize o código disponível no campo `<Code label=\"\">`. Por exemplo, no campo `<Code Label=\"WHOSIS_000001\">` é possível encontrar o código `WHOSIS_000001` que indica `Life expectancy at birth (years)`.\n",
    "\n",
    "Depois de estabelecida a informação, podem ser configurados parâmetros, com o sufixo `?` depois da URL. Os parâmetros são separados por `&`.\n",
    "\n",
    "Os códigos dos países são encontrados em: [https://apps.who.int/gho/athena/api/COUNTRY](https://apps.who.int/gho/athena/api/COUNTRY)."
   ]
  },
  {
   "cell_type": "markdown",
   "metadata": {},
   "source": [
    "## Importando dados em JSON no Python\n",
    "\n",
    "![JSON](json.png)"
   ]
  },
  {
   "cell_type": "code",
   "execution_count": null,
   "metadata": {},
   "outputs": [],
   "source": [
    "import io\n",
    "import requests\n",
    "import json\n",
    "url = \"https://apps.who.int/gho/athena/api/GHO/WHOSIS_000001?filter=COUNTRY:BRA&format=json\"\n",
    "js = requests.get(url).content\n",
    "print(js.decode(\"utf-8\"))"
   ]
  },
  {
   "cell_type": "markdown",
   "metadata": {},
   "source": [
    "### Mostrando o Copyright"
   ]
  },
  {
   "cell_type": "code",
   "execution_count": null,
   "metadata": {},
   "outputs": [],
   "source": [
    "import io\n",
    "import requests\n",
    "import json\n",
    "url = \"https://apps.who.int/gho/athena/api/GHO/WHOSIS_000001?filter=COUNTRY:BRA&format=json\"\n",
    "data = requests.get(url)\n",
    "js = data.json()\n",
    "print(js[\"copyright\"])"
   ]
  },
  {
   "cell_type": "markdown",
   "metadata": {},
   "source": [
    "## Importando dados em CSV no Python\n",
    "\n",
    "![CSV](csv.png)"
   ]
  },
  {
   "cell_type": "code",
   "execution_count": null,
   "metadata": {},
   "outputs": [],
   "source": [
    "import pandas as pd\n",
    "import io\n",
    "import requests\n",
    "url = \"https://apps.who.int/gho/athena/api/GHO/WHOSIS_000001?filter=COUNTRY:BRA&format=csv\"\n",
    "data = requests.get(url).content\n",
    "csv = pd.read_csv(io.StringIO(data.decode(\"utf-8\")))\n",
    "print(csv)"
   ]
  },
  {
   "cell_type": "markdown",
   "metadata": {},
   "source": [
    "# Mostrando o Copyright"
   ]
  },
  {
   "cell_type": "code",
   "execution_count": null,
   "metadata": {},
   "outputs": [],
   "source": []
  },
  {
   "cell_type": "markdown",
   "metadata": {},
   "source": [
    "# Importando dados em XML no Python\n",
    "\n",
    "![XML](xml.png)"
   ]
  },
  {
   "cell_type": "code",
   "execution_count": null,
   "metadata": {
    "tags": []
   },
   "outputs": [],
   "source": [
    "import io\n",
    "import requests\n",
    "import xml.etree.ElementTree as et\n",
    "url = \"https://apps.who.int/gho/athena/api/GHO/WHOSIS_000001?filter=COUNTRY:BRA\"\n",
    "data = requests.get(url).content\n",
    "x = et.parse(io.StringIO(data.decode(\"utf-8\")))\n",
    "print(x)"
   ]
  },
  {
   "cell_type": "markdown",
   "metadata": {},
   "source": [
    "# Mostrando o Copyright"
   ]
  },
  {
   "cell_type": "markdown",
   "metadata": {},
   "source": [
    "# Tarefa 1\n",
    "\n",
    "Das fontes de dados disponíveis, tente encontrar fontes com formatos diferentes e importá-las via Python. Busque pelo menos dois formatos."
   ]
  },
  {
   "cell_type": "code",
   "execution_count": 15,
   "metadata": {
    "tags": []
   },
   "outputs": [
    {
     "output_type": "stream",
     "name": "stdout",
     "text": "0\tArab World: 396028278 pessoas em 2015\n1\tCaribbean small states: 7222212 pessoas em 2015\n2\tCentral Europe and the Baltics: 103257886 pessoas em 2015\n3\tEarly-demographic dividend: 3122156912 pessoas em 2015\n4\tEast Asia & Pacific: 2282855831 pessoas em 2015\n"
    }
   ],
   "source": [
    "#Populacao World Bank XML\n",
    "\n",
    "import io\n",
    "import requests\n",
    "import xml.etree.ElementTree as et\n",
    "url = \"http://api.worldbank.org/v2/country/all/indicator/SP.POP.TOTL?date=2015\"\n",
    "data = requests.get(url).content\n",
    "x = et.parse(io.StringIO(data.decode(\"utf-8\"))).getroot()\n",
    "\n",
    "ns = {\"wb\": \"http://www.worldbank.org\"}\n",
    "\n",
    "for i, child in enumerate(x.findall(\"wb:data\", ns)):\n",
    "    if i >= 5:\n",
    "        break\n",
    "\n",
    "    print(\"{}\\t{}: {} pessoas em 2015\".format(i, child.find(\"wb:country\", ns).text, child.find(\"wb:value\", ns).text))\n"
   ]
  },
  {
   "cell_type": "code",
   "execution_count": 11,
   "metadata": {
    "tags": []
   },
   "outputs": [
    {
     "output_type": "stream",
     "name": "stdout",
     "text": "Country                Indicator  OBS_VALUE              Unit of measure\n0  Afghanistan  Neonatal mortality rate  78.755833  Deaths per 1000 live births\n1  Afghanistan  Neonatal mortality rate  77.216496  Deaths per 1000 live births\n2  Afghanistan  Neonatal mortality rate  75.727893  Deaths per 1000 live births\n3  Afghanistan  Neonatal mortality rate  74.310681  Deaths per 1000 live births\n4  Afghanistan  Neonatal mortality rate  72.903387  Deaths per 1000 live births\n5  Afghanistan  Neonatal mortality rate  71.430885  Deaths per 1000 live births\n"
    }
   ],
   "source": [
    "#Mortalidade infantil - Unicef - csv\n",
    "#A API demora um pouco para responder\n",
    "\n",
    "import pandas as pd\n",
    "import io\n",
    "import requests\n",
    "url = \"https://sdmx.data.unicef.org/ws/public/sdmxapi/rest/data/UNICEF,CME,1.0/all?format=csv\"\n",
    "data = requests.get(url).content\n",
    "csv = pd.read_csv(io.StringIO(data.decode(\"utf-8\")))\n",
    "print(csv.loc[0:5, (\"Country\", \"Indicator\", \"OBS_VALUE\", \"Unit of measure\")])\n"
   ]
  },
  {
   "cell_type": "markdown",
   "metadata": {},
   "source": [
    "# Tarefa 2\n",
    "\n",
    "## Engenharia reversa\n",
    "\n",
    "Monte um diagramas que representem modelos dos dados que você terá acesso e como pretende associá-los. Coloque abaixo uma imagem do diagrama."
   ]
  },
  {
   "source": [
    "<img src=\"../images/datasets.png\" style=\"width:1200px\">"
   ],
   "cell_type": "markdown",
   "metadata": {}
  }
 ],
 "metadata": {
  "kernelspec": {
   "display_name": "Python 3",
   "language": "python",
   "name": "python3"
  },
  "language_info": {
   "codemirror_mode": {
    "name": "ipython",
    "version": 3
   },
   "file_extension": ".py",
   "mimetype": "text/x-python",
   "name": "python",
   "nbconvert_exporter": "python",
   "pygments_lexer": "ipython3",
   "version": "3.8.3-final"
  }
 },
 "nbformat": 4,
 "nbformat_minor": 4
}
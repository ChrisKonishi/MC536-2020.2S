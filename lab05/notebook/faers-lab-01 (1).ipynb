{
 "cells": [
  {
   "cell_type": "code",
   "execution_count": 13,
   "metadata": {},
   "outputs": [],
   "source": [
    "%defaultDatasource jdbc:h2:file:./database"
   ]
  },
  {
   "cell_type": "code",
   "execution_count": 14,
   "metadata": {},
   "outputs": [],
   "source": [
    "\n",
    "DROP TABLE IF EXISTS DrugUseEffect;\n",
    "DROP TABLE IF EXISTS Suporte;\n",
    "DROP TABLE IF EXISTS Total;\n",
    "\n",
    "DROP TABLE IF EXISTS DrugAppearance;\n",
    "DROP TABLE IF EXISTS DrugaSum;\n",
    "DROP TABLE IF EXISTS DrugbSum;\n",
    "\n",
    "DROP TABLE IF EXISTS GrupoMais30;\n",
    "DROP TABLE IF EXISTS Contagem;\n",
    "\n",
    "DROP TABLE IF EXISTS Drug;\n",
    "DROP TABLE IF EXISTS Pathology;\n",
    "DROP TABLE IF EXISTS DrugUse;\n",
    "DROP TABLE IF EXISTS SideEffect;\n",
    "\n",
    "\n",
    "CREATE TABLE Drug (\n",
    "  code INT NOT NULL,\n",
    "  name VARCHAR(200) NOT NULL,\n",
    "  PRIMARY KEY(code)\n",
    ") AS SELECT\n",
    "    code,\n",
    "    name\n",
    "FROM CSVREAD('../../../data/faers-2017/drug.csv');\n",
    "\n",
    "CREATE TABLE Pathology (\n",
    "  code INT NOT NULL,\n",
    "  name VARCHAR(200) NOT NULL,\n",
    "  PRIMARY KEY(code)\n",
    ") AS SELECT\n",
    "    code,\n",
    "    name\n",
    "FROM CSVREAD('../../../data/faers-2017/pathology.csv');\n",
    "\n",
    "CREATE TABLE DrugUse (\n",
    "  idPerson INT NOT NULL,\n",
    "  codePathology INT NOT NULL,\n",
    "  codeDrug INT NOT NULL,\n",
    "  FOREIGN KEY(codePathology)\n",
    "    REFERENCES Pathology(code)\n",
    "      ON DELETE NO ACTION\n",
    "      ON UPDATE NO ACTION,\n",
    "  FOREIGN KEY(codeDrug)\n",
    "    REFERENCES Drug(code)\n",
    "      ON DELETE NO ACTION\n",
    "      ON UPDATE NO ACTION,\n",
    ") AS SELECT\n",
    "    idPerson,\n",
    "    codePathology,\n",
    "    codeDrug\n",
    "FROM CSVREAD('../../../data/faers-2017/drug-use.csv');\n",
    "\n",
    "CREATE TABLE SideEffect(\n",
    "  idPerson INT NOT NULL,\n",
    "  codePathology INT NOT NULL,\n",
    "  FOREIGN KEY(codePathology)\n",
    "    REFERENCES Pathology(code)\n",
    "      ON DELETE NO ACTION\n",
    "      ON UPDATE NO ACTION\n",
    ") AS SELECT idPerson, codePathology\n",
    "FROM CSVREAD('../../../data/faers-2017/sideeffect.csv');"
   ]
  },
  {
   "cell_type": "code",
   "execution_count": 3,
   "metadata": {},
   "outputs": [
    {
     "data": {
      "application/vnd.jupyter.widget-view+json": {
       "model_id": "fae6b63b-132b-4e47-96dd-e4b7d532753e",
       "version_major": 2,
       "version_minor": 0
      },
      "method": "display_data"
     },
     "metadata": {},
     "output_type": "display_data"
    },
    {
     "data": {
      "application/vnd.jupyter.widget-view+json": {
       "model_id": "91278968-c6c8-4f0a-9ce3-e964857d7311",
       "version_major": 2,
       "version_minor": 0
      },
      "method": "display_data"
     },
     "metadata": {},
     "output_type": "display_data"
    },
    {
     "data": {
      "application/vnd.jupyter.widget-view+json": {
       "model_id": "42b2993c-8ab8-44e0-a93a-42fba6c03a88",
       "version_major": 2,
       "version_minor": 0
      },
      "method": "display_data"
     },
     "metadata": {},
     "output_type": "display_data"
    },
    {
     "data": {
      "application/vnd.jupyter.widget-view+json": {
       "model_id": "01acf902-f3da-47e5-96c8-07b79cab0cfa",
       "version_major": 2,
       "version_minor": 0
      },
      "method": "display_data"
     },
     "metadata": {},
     "output_type": "display_data"
    }
   ],
   "source": [
    "SELECT * FROM Drug;\n",
    "SELECT * FROM Pathology;\n",
    "SELECT * FROM DrugUse;\n",
    "SELECT * FROM SideEffect;"
   ]
  },
  {
   "cell_type": "markdown",
   "metadata": {},
   "source": [
    "# FDA Adverse Event Reporting System (FAERS)\n",
    "\n",
    "Considere a base de dados que reúne relatos de efeitos adversos de drogas: [FDA Adverse Event Reporting System (FAERS)](https://open.fda.gov/data/faers/).\n",
    "\n",
    "As fontes de dados são publicadas e documentadas em: [Latest Quarterly Data Files](https://www.fda.gov/drugs/fda-adverse-event-reporting-system-faers/fda-adverse-event-reporting-system-faers-latest-quarterly-data-files)"
   ]
  },
  {
   "cell_type": "markdown",
   "metadata": {},
   "source": [
    "# Interação entre medicamentos\n",
    "Considere como uma interação toda vez que um medicamento A é tomado em conjunto com um medicamento B por uma pessoa. Crie uma consulta que retorne para cada par de medicamento A,B o número de interações, somente para aqueles medicamentos que são tomados em conjunto mais de 30 vezes (passaremos a chamar de **grupo mais 30**)."
   ]
  },
  {
   "cell_type": "code",
   "execution_count": null,
   "metadata": {},
   "outputs": [],
   "source": [
    "-- Nao consegui rodar essa parte\n",
    "\n",
    "DROP TABLE IF EXISTS Contagem;\n",
    "\n",
    "CREATE VIEW Contagem AS\n",
    "SELECT t1.CodeDrug drug1, t2.CodeDrug drug2, COUNT(*) cont\n",
    "    FROM \n",
    "        DrugUse t1, DrugUse t2\n",
    "    WHERE\n",
    "        t1.IdPerson = t2.IdPerson AND t1.CodeDrug < t2.CodeDrug\n",
    "    GROUP BY\n",
    "        t1.CodeDrug, t2.CodeDrug\n",
    ";\n",
    "\n",
    "SELECT * FROM Contagem;"
   ]
  },
  {
   "cell_type": "code",
   "execution_count": null,
   "metadata": {},
   "outputs": [],
   "source": [
    "CREATE VIEW GrupoMais30\n",
    "SELECT drug1, drug2, cont\n",
    "    FROM Contagem\n",
    "    WHERE cont>30\n",
    ";"
   ]
  },
  {
   "cell_type": "markdown",
   "metadata": {},
   "source": [
    "## Tabela Resultante\n",
    "\n",
    "Se estiver demorando muito para gerar a tabela, você poderá usar a seguinte tabela resultante pronta. Essa tabela tem todas as interações, você ainda precisará filtrar o **grupo mais 30**."
   ]
  },
  {
   "cell_type": "code",
   "execution_count": 4,
   "metadata": {},
   "outputs": [
    {
     "data": {
      "application/vnd.jupyter.widget-view+json": {
       "model_id": "a50ba1fe-54f2-459b-ab34-a60788025464",
       "version_major": 2,
       "version_minor": 0
      },
      "method": "display_data"
     },
     "metadata": {},
     "output_type": "display_data"
    }
   ],
   "source": [
    "DROP TABLE IF EXISTS DrugInteraction;\n",
    "\n",
    "CREATE TABLE DrugInteraction (\n",
    "  druga INT NOT NULL,\n",
    "  drugb INT NOT NULL,\n",
    "  weight INT NOT NULL,\n",
    "  PRIMARY KEY(druga, drugb)\n",
    ") AS SELECT\n",
    "    druga,\n",
    "    drugb,\n",
    "    weight\n",
    "FROM CSVREAD('../../../data/faers-2017/results/drug-interaction.csv');\n",
    "\n",
    "SELECT * FROM DrugInteraction;\n",
    "\n"
   ]
  },
  {
   "cell_type": "code",
   "execution_count": 5,
   "metadata": {},
   "outputs": [
    {
     "data": {
      "application/vnd.jupyter.widget-view+json": {
       "model_id": "15e77601-2638-4132-95f3-cc396d78f434",
       "version_major": 2,
       "version_minor": 0
      },
      "method": "display_data"
     },
     "metadata": {},
     "output_type": "display_data"
    }
   ],
   "source": [
    "DROP TABLE IF EXISTS GrupoMais30;\n",
    "\n",
    "CREATE VIEW GrupoMais30 AS\n",
    "SELECT druga, drugb, weight\n",
    "    FROM DrugInteraction\n",
    "    WHERE weight > 30\n",
    ";\n",
    "\n",
    "SELECT * FROM GrupoMais30;"
   ]
  },
  {
   "cell_type": "markdown",
   "metadata": {},
   "source": [
    "# Suporte\n",
    "\n",
    "### Qual o suporte que cada uma das associações tem?\n",
    "\n",
    "Gere uma consulta que apresente o suporte do **grupo mais 30**. Ordene o resultado por ordem de suporte. \n",
    "\n",
    "Observação: Para que o resultado da divisão seja fracionária, converta o numerador em `DOUBLE` usando:\n",
    "~~~sql\n",
    "CAST(campo AS DOUBLE)\n",
    "~~~"
   ]
  },
  {
   "cell_type": "code",
   "execution_count": 6,
   "metadata": {},
   "outputs": [
    {
     "data": {
      "application/vnd.jupyter.widget-view+json": {
       "model_id": "b4587357-afa1-4ab9-b763-90167bfa0a5d",
       "version_major": 2,
       "version_minor": 0
      },
      "method": "display_data"
     },
     "metadata": {},
     "output_type": "display_data"
    },
    {
     "data": {
      "application/vnd.jupyter.widget-view+json": {
       "model_id": "9cd2f52d-659c-4492-9f14-b766dc6bd8be",
       "version_major": 2,
       "version_minor": 0
      },
      "method": "display_data"
     },
     "metadata": {},
     "output_type": "display_data"
    }
   ],
   "source": [
    "DROP TABLE IF EXISTS Suporte;\n",
    "DROP TABLE IF EXISTS Total;\n",
    "\n",
    "CREATE VIEW Total AS\n",
    "SELECT SUM(Weight) Total\n",
    "    FROM DrugInteraction\n",
    ";\n",
    "\n",
    "SELECT * FROM Total;\n",
    "\n",
    "CREATE VIEW Suporte AS\n",
    "SELECT g.druga, g.drugb, g.weight, CAST(g.weight AS DOUBLE)/t.total suporte\n",
    "    FROM GrupoMais30 g, Total t\n",
    "    ORDER BY suporte\n",
    ";\n",
    "\n",
    "SELECT * FROM Suporte;"
   ]
  },
  {
   "cell_type": "markdown",
   "metadata": {},
   "source": [
    "# Confiança\n",
    "\n",
    "### Qual a confiança que cada uma das associações tem?\n",
    "\n",
    "Gere uma consulta que apresente a confiança do **grupo mais 30**. Ordene o resultado por ordem de confiança."
   ]
  },
  {
   "cell_type": "code",
   "execution_count": 7,
   "metadata": {},
   "outputs": [
    {
     "data": {
      "application/vnd.jupyter.widget-view+json": {
       "model_id": "999b0e40-cb43-45c4-8a95-840b9c2c5a81",
       "version_major": 2,
       "version_minor": 0
      },
      "method": "display_data"
     },
     "metadata": {},
     "output_type": "display_data"
    },
    {
     "data": {
      "application/vnd.jupyter.widget-view+json": {
       "model_id": "db91f676-38e4-4835-83ee-d3c1a2cdacdf",
       "version_major": 2,
       "version_minor": 0
      },
      "method": "display_data"
     },
     "metadata": {},
     "output_type": "display_data"
    }
   ],
   "source": [
    "DROP TABLE IF EXISTS DrugAppearance;\n",
    "DROP TABLE IF EXISTS DrugaSum;\n",
    "DROP TABLE IF EXISTS DrugbSum;\n",
    "\n",
    "-- drug sum\n",
    "CREATE VIEW DrugaSum AS\n",
    "SELECT druga, SUM(Weight) drugaTotal\n",
    "    FROM DrugInteraction\n",
    "    GROUP BY druga\n",
    ";\n",
    "\n",
    "CREATE VIEW DrugbSum AS\n",
    "SELECT drugb, SUM(Weight) drugbTotal\n",
    "    FROM DrugInteraction\n",
    "    GROUP BY drugb\n",
    ";\n",
    "\n",
    "CREATE VIEW DrugAppearance AS\n",
    "SELECT a.druga drug, a.drugatotal, b.drugbtotal,  a.drugatotal + b.drugbtotal appearances\n",
    "    FROM DrugaSum a, DrugbSum b\n",
    "    WHERE a.druga = b.drugb\n",
    ";\n",
    "\n",
    "\n",
    "SELECT g.druga, g.drugb, g.weight, da.appearances, CAST(g.weight AS DOUBLE)/(da.appearances - g.weight) confianca\n",
    "    FROM GrupoMais30 g, DrugAppearance da\n",
    "    WHERE g.druga = da.drug\n",
    "    ORDER BY Confianca\n",
    ";\n",
    "\n",
    "SELECT g.drugb, g.druga, g.weight, da.appearances, CAST(g.weight AS DOUBLE)/(da.appearances - g.weight) confianca\n",
    "    FROM GrupoMais30 g, DrugAppearance da\n",
    "    WHERE g.drugb = da.drug\n",
    "    ORDER BY Confianca\n",
    ";"
   ]
  },
  {
   "cell_type": "markdown",
   "metadata": {},
   "source": [
    "# Efeito Colateral\n",
    "\n",
    "Para cada medicamento, qual o percentual do medicamento A que tem efeito colateral junto com o medicamento B, quando comparado com seu uso sem o medicamento B."
   ]
  },
  {
   "cell_type": "code",
   "execution_count": 22,
   "metadata": {},
   "outputs": [],
   "source": [
    "-- Nao consegui rodar essa parte\n",
    "\n",
    "-- Juntar uso de medicamento e efeitos\n",
    "-- 19919\n",
    "DROP TABLE IF EXISTS DrugUseEffect;\n",
    "\n",
    "CREATE VIEW DrugUseEffect AS\n",
    "SELECT du.IdPerson, du.CodeDrug\n",
    "    FROM DrugUse du, SideEffect se\n",
    "    WHERE du.IdPerson = se.IdPerson\n",
    "    GROUP BY du.IdPerson, du.CodeDrug\n",
    "    ORDER BY du.IdPerson\n",
    ";"
   ]
  },
  {
   "cell_type": "code",
   "execution_count": 23,
   "metadata": {},
   "outputs": [],
   "source": [
    "-- contagem interacoes com efeito colateral\n",
    "\n",
    "DROP TABLE IF EXISTS Contagem;\n",
    "\n",
    "CREATE VIEW Contagem AS\n",
    "SELECT t1.CodeDrug druga, t2.CodeDrug drugb, COUNT(*) weight\n",
    "    FROM \n",
    "        DrugUseEffect t1, DrugUseEffect t2\n",
    "    WHERE\n",
    "        t1.IdPerson = t2.IdPerson AND t1.CodeDrug < t2.CodeDrug \n",
    "    GROUP BY\n",
    "        t1.CodeDrug, t2.CodeDrug\n",
    ";\n"
   ]
  },
  {
   "cell_type": "code",
   "execution_count": 24,
   "metadata": {},
   "outputs": [],
   "source": [
    "DROP TABLE IF EXISTS DrugAppearance;\n",
    "DROP TABLE IF EXISTS DrugSum;\n",
    "\n",
    "-- soma do uso da droga com efeito colateral\n",
    "CREATE VIEW DrugSum AS\n",
    "SELECT due.CodeDrug, COUNT(*) weight\n",
    "    FROM DrugUseEffect due\n",
    "    GROUP BY due.codedrug\n",
    ";\n",
    "\n"
   ]
  },
  {
   "cell_type": "code",
   "execution_count": null,
   "metadata": {},
   "outputs": [],
   "source": [
    "SELECT g.druga, g.drugb, g.weight, da.weight, CAST(g.weight AS DOUBLE)/(da.weight - g.weight) proporcao\n",
    "    FROM Contagem g, DrugSum da\n",
    "    WHERE g.druga = da.CodeDrug\n",
    "    ORDER BY proporcao\n",
    ";"
   ]
  },
  {
   "cell_type": "code",
   "execution_count": null,
   "metadata": {},
   "outputs": [],
   "source": []
  }
 ],
 "metadata": {
  "kernelspec": {
   "display_name": "SQL",
   "language": "SQL",
   "name": "sql"
  },
  "language_info": {
   "codemirror_mode": "sql",
   "file_extension": ".sql",
   "mimetype": "",
   "name": "SQL",
   "nbconverter_exporter": "",
   "version": ""
  },
  "toc": {
   "base_numbering": 1,
   "nav_menu": {},
   "number_sections": false,
   "sideBar": false,
   "skip_h1_title": false,
   "title_cell": "Table of Contents",
   "title_sidebar": "Contents",
   "toc_cell": false,
   "toc_position": {},
   "toc_section_display": false,
   "toc_window_display": false
  }
 },
 "nbformat": 4,
 "nbformat_minor": 4
}
